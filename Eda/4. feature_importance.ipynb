{
 "cells": [
  {
   "cell_type": "code",
   "execution_count": 250,
   "metadata": {},
   "outputs": [],
   "source": [
    "import pandas as pd\n",
    "import numpy as np\n",
    "import matplotlib.pyplot as plt\n",
    "import seaborn as sns\n",
    "%matplotlib inline\n",
    "\n",
    "train=pd.read_csv(r\"C:\\Users\\USER\\Desktop\\캐글 모델링\\boston house\\data\\train.csv\", index_col='Id')\n",
    "test=pd.read_csv(r\"C:\\Users\\USER\\Desktop\\캐글 모델링\\boston house\\data\\test.csv\", index_col='Id')\n",
    "\n",
    "# 프로파일 및 eda 목적용 데이터 프레임\n",
    "data=pd.concat([train, test], sort=False)\n",
    "\n",
    "# data description에 안나와있는 특성 삭제\n",
    "data.drop(columns=['KitchenAbvGr'], inplace=True)\n",
    "data.drop(columns=['BedroomAbvGr'], inplace=True)"
   ]
  },
  {
   "cell_type": "code",
   "execution_count": 251,
   "metadata": {},
   "outputs": [],
   "source": [
    "# 순서 그대로 중복값 없애는 함수\n",
    "def top_feature(original_list):\n",
    "    edit_list=[]\n",
    "    for i in original_list:\n",
    "        result=i.split('_')[0]\n",
    "        edit_list.append(result)\n",
    "    \n",
    "    return_list=[]\n",
    "    seen=set()\n",
    "    for i in edit_list:\n",
    "        if i not in seen:\n",
    "            return_list.append(i)\n",
    "            seen.add(i)\n",
    "    \n",
    "    return return_list\n",
    "        "
   ]
  },
  {
   "cell_type": "markdown",
   "metadata": {},
   "source": [
    "# 1. 중요 특성 구분 "
   ]
  },
  {
   "cell_type": "markdown",
   "metadata": {},
   "source": [
    "(결측치까지 처리한 이후)\n",
    "트리계열에서 뽑힌 특성들 feature importance 순서대로 들어있는 리스트"
   ]
  },
  {
   "cell_type": "code",
   "execution_count": 252,
   "metadata": {},
   "outputs": [],
   "source": [
    "feature_XGBoost=['GarageCars', 'MSZoning_RM', 'GarageCond_TA', 'OverallQual', 'GarageType_Attchd', 'GrLivArea', 'BsmtQual', 'TotalBsmtSF', 'YearRemodAdd', 'Neighborhood_OldTown', 'Exterior2nd_Brk Cmn', 'BsmtFinSF1', 'SaleType_New', 'BldgType_1Fam', 'YearBuilt', 'KitchenQual', 'Neighborhood_Sawyer', 'PavedDrive_N', 'BsmtExposure_Gd', 'Fireplaces', 'GarageFinish_Fin', 'MSZoning_RL', 'GarageFinish_Unf', 'HalfBath', 'LandContour_Bnk', 'GarageYrBlt_1970.0', 'LotShape_Reg', 'CentralAir_N', 'LotArea', 'Functional_Typ', 'OverallCond', 'HeatingQC_Fa', 'Heating_Grav', 'Neighborhood_Crawfor', 'GarageArea', 'BsmtFinType1_GLQ', 'Exterior2nd_AsbShng', 'SaleCondition_Family', 'Neighborhood_Edwards', 'GarageYrBlt_1965.0', 'Condition1_Artery', 'BsmtCond_Fa', 'PoolArea', 'SaleCondition_Abnorml', 'GarageYrBlt_1977.0', 'Fence_GdWo', 'HouseStyle_SLvl', '1stFlrSF', 'ScreenPorch', 'Condition1_Norm', 'BsmtFullBath', 'Exterior2nd_Wd Shng', 'BsmtExposure_No', 'LotConfig_CulDSac', 'SaleCondition_Normal', 'Neighborhood_Blmngtn', 'LotFrontage', 'WoodDeckSF', 'Neighborhood_NAmes', 'MSZoning_C (all)', 'MasVnrType_None', '2ndFlrSF', 'Exterior1st_BrkFace', 'OpenPorchSF', 'FireplaceQu_Po', 'GarageYrBlt_1990.0', 'RoofStyle_Gable', 'SaleType_WD', 'BsmtCond_TA', 'Exterior2nd_CmentBd', 'BsmtFinType2_BLQ', 'Neighborhood_StoneBr', 'Foundation_PConc', 'BsmtFinType1_ALQ', 'GarageQual_TA', 'BsmtFinSF2', 'LotConfig_Corner', 'Neighborhood_BrkSide', 'BsmtExposure_Av', 'MSZoning_FV', 'Neighborhood_Somerst', 'Fence_MnPrv', 'Neighborhood_Mitchel', 'PavedDrive_Y', 'Neighborhood_NridgHt', 'Fence_nan', 'Functional_Min1', 'EnclosedPorch', 'Neighborhood_NWAmes', 'BldgType_Duplex', 'ExterQual', 'GarageYrBlt_2008.0', 'FireplaceQu_Gd', 'Condition1_PosN', 'FullBath', 'GarageFinish_RFn', 'ExterCond_Gd', 'Condition1_RRAe', 'Foundation_Wood', 'Exterior1st_Plywood', 'MoSold', 'BsmtUnfSF', 'Functional_Maj2', 'Exterior2nd_HdBoard', 'BsmtFinType1_BLQ', 'GarageYrBlt_1968.0', 'BsmtHalfBath', 'Exterior2nd_VinylSd', 'MasVnrType_Stone', 'GarageYrBlt_2007.0', 'Condition2_Norm', 'Exterior2nd_MetalSd', 'YrSold', 'GarageYrBlt_1936.0', 'TotRmsAbvGrd', 'LotShape_IR2', 'LandContour_HLS', 'Alley_Pave', 'Exterior1st_MetalSd', 'BsmtFinType1_Unf', 'Neighborhood_SawyerW', 'GarageType_CarPort', 'HouseStyle_1.5Fin', 'LotConfig_Inside', 'SaleType_COD', 'Condition1_Feedr', 'Exterior2nd_Wd Sdng', 'RoofStyle_Hip', 'Neighborhood_MeadowV', 'Electrical_FuseA', 'MasVnrType_BrkFace', 'MasVnrArea', 'BsmtFinType1_Rec', 'Electrical_FuseF', 'Neighborhood_ClearCr', 'GarageType_Detchd', 'HouseStyle_1Story', 'SaleType_ConLD', 'GarageYrBlt_1961.0', 'GarageYrBlt_2002.0', 'GarageYrBlt_1940.0', 'Exterior1st_AsbShng', 'MSZoning_RH', 'LandContour_Lvl', 'HouseStyle_2.5Unf', 'HeatingQC_Ex', 'Neighborhood_Gilbert', 'GarageYrBlt_1998.0', 'GarageYrBlt_1954.0', 'GarageYrBlt_1991.0', 'Alley_Grvl', 'BsmtExposure_Mn', 'Foundation_CBlock', 'LotShape_IR1', 'Foundation_BrkTil', 'Neighborhood_NoRidge', 'GarageYrBlt_1945.0', 'GarageYrBlt_2000.0', 'GarageYrBlt_1997.0', 'HeatingQC_Gd', 'GarageYrBlt_1963.0', 'Condition1_PosA', 'GarageYrBlt_1956.0', 'GarageYrBlt_2004.0', 'Neighborhood_SWISU', 'LotConfig_FR2', 'MasVnrType_BrkCmn', 'GarageYrBlt_1979.0', 'FireplaceQu_Fa', 'MSSubClass', 'Exterior2nd_Plywood', 'RoofStyle_Flat', 'GarageType_BuiltIn', 'GarageYrBlt_1941.0', 'GarageYrBlt_1964.0', 'SaleType_ConLI', 'MiscVal', 'Exterior1st_Wd Sdng', 'GarageQual_Fa', 'SaleType_Oth', 'Foundation_Slab', '3SsnPorch', 'GarageYrBlt_1994.0', 'GarageYrBlt_1975.0', 'GarageYrBlt_1935.0', 'GarageYrBlt_1974.0', 'ExterCond_Ex', 'HeatingQC_TA', 'BsmtFinType1_LwQ', 'SaleCondition_Partial', 'GarageYrBlt_1949.0', 'GarageYrBlt_1967.0', 'Neighborhood_CollgCr', 'RoofMatl_CompShg', 'GarageYrBlt_2006.0', 'GarageYrBlt_1972.0', 'GarageYrBlt_1953.0', 'GarageYrBlt_1966.0', 'LotConfig_FR3', 'GarageYrBlt_1957.0', 'Functional_Mod', 'GarageYrBlt_1962.0', 'GarageYrBlt_1989.0', 'LowQualFinSF', 'BldgType_TwnhsE', 'ExterCond_Fa', 'GarageYrBlt_1999.0', 'GarageYrBlt_1930.0', 'GarageYrBlt_1987.0', 'Fence_GdPrv', 'BsmtCond_Gd', 'GarageYrBlt_1922.0', 'FireplaceQu_TA', 'GarageYrBlt_1925.0', 'HouseStyle_SFoyer', 'GarageYrBlt_1981.0', 'GarageCond_Po', 'GarageYrBlt_1926.0', 'Neighborhood_Veenker', 'GarageYrBlt_1971.0', 'Exterior2nd_Stucco', 'Functional_Min2', 'Neighborhood_IDOTRR', 'Condition1_RRNn', 'Condition1_RRNe', 'LotShape_IR3', 'Condition1_RRAn', 'MiscFeature_nan', 'Condition2_RRAn', 'GarageFinish_nan', 'Exterior2nd_CBlock', 'Condition2_PosN', 'Condition2_PosA', 'Condition2_Feedr', 'Condition2_Artery', 'Exterior2nd_Stone', 'Exterior2nd_Other', 'Exterior2nd_ImStucc', 'Exterior2nd_BrkFace', 'FireplaceQu_nan', 'Exterior2nd_AsphShn', 'BsmtExposure_nan', 'Fence_MnWw', 'RoofStyle_Shed', 'RoofStyle_Mansard', 'RoofStyle_Gambrel', 'HeatingQC_Po', 'Condition2_RRAe', 'Electrical_Mix', 'Condition2_RRNn', 'Foundation_Stone', 'FireplaceQu_Ex', 'Street_Pave', 'Street_Grvl', 'BldgType_2fmCon', 'HouseStyle_2Story', 'HouseStyle_2.5Fin', 'HouseStyle_1.5Unf', 'SaleCondition_Alloca', 'SaleCondition_AdjLand', 'BldgType_Twnhs', 'Alley_nan', 'GarageQual_nan', 'GarageQual_Po', 'GarageQual_Gd', 'GarageQual_Ex', 'Electrical_FuseP', 'RoofMatl_ClyTile', 'Electrical_SBrkr', 'GarageYrBlt_1932.0', 'GarageYrBlt_1952.0', 'GarageYrBlt_1951.0', 'GarageYrBlt_1950.0', 'GarageYrBlt_1948.0', 'GarageYrBlt_1947.0', 'GarageYrBlt_1946.0', 'GarageYrBlt_1943.0', 'GarageYrBlt_1942.0', 'GarageYrBlt_1939.0', 'GarageYrBlt_1938.0', 'GarageYrBlt_1937.0', 'GarageYrBlt_1934.0', 'GarageYrBlt_1933.0', 'GarageYrBlt_1931.0', 'GarageYrBlt_1908.0', 'GarageYrBlt_1929.0', 'GarageYrBlt_1928.0', 'GarageYrBlt_1927.0', 'GarageYrBlt_1924.0', 'GarageYrBlt_1923.0', 'GarageYrBlt_1921.0', 'GarageYrBlt_1920.0', 'GarageYrBlt_1919.0', 'GarageYrBlt_1918.0', 'GarageYrBlt_1917.0', 'GarageYrBlt_1916.0', 'GarageYrBlt_1915.0', 'GarageYrBlt_1914.0', 'GarageYrBlt_1955.0', 'GarageYrBlt_1958.0', 'GarageYrBlt_1959.0', 'GarageYrBlt_1960.0', 'MiscFeature_Shed', 'MiscFeature_Othr', 'MiscFeature_Gar2', 'ExterCond_TA', 'ExterCond_Po', 'GarageYrBlt_nan', 'GarageYrBlt_2207.0', 'GarageYrBlt_2010.0', 'GarageYrBlt_2009.0', 'GarageYrBlt_2005.0', 'GarageYrBlt_2003.0', 'GarageYrBlt_2001.0', 'GarageYrBlt_1996.0', 'GarageYrBlt_1995.0', 'GarageYrBlt_1993.0', 'GarageYrBlt_1992.0', 'GarageYrBlt_1988.0', 'GarageYrBlt_1986.0', 'GarageYrBlt_1985.0', 'GarageYrBlt_1984.0', 'GarageYrBlt_1983.0', 'GarageYrBlt_1982.0', 'GarageYrBlt_1980.0', 'GarageYrBlt_1978.0', 'GarageYrBlt_1976.0', 'GarageYrBlt_1973.0', 'GarageYrBlt_1969.0', 'GarageYrBlt_1910.0', 'GarageYrBlt_1906.0', 'Neighborhood_Blueste', 'Functional_Maj1', 'Exterior1st_Stucco', 'Exterior1st_Stone', 'Exterior1st_ImStucc', 'Exterior1st_HdBoard', 'Exterior1st_CemntBd', 'Exterior1st_CBlock', 'Exterior1st_BrkComm', 'Exterior1st_AsphShn', 'Utilities_NoSeWa', 'Utilities_AllPub', 'LandContour_Low', 'MiscFeature_TenC', 'Functional_Sev', 'GarageType_nan', 'GarageYrBlt_1900.0', 'GarageType_Basment', 'RoofMatl_Membran', 'GarageType_2Types', 'BsmtCond_nan', 'BsmtCond_Po', 'RoofMatl_Metal', 'Neighborhood_Timber', 'RoofMatl_Roll', 'RoofMatl_Tar&Grv', 'Neighborhood_NPkVill', 'RoofMatl_WdShake', 'RoofMatl_WdShngl', 'Neighborhood_BrDale', 'Exterior1st_VinylSd', 'Exterior1st_WdShing', 'CentralAir_Y', 'PavedDrive_P', 'GarageYrBlt_1896.0', 'GarageYrBlt_1895.0', 'SaleType_ConLw', 'SaleType_Con', 'SaleType_CWD', 'LandSlope_Sev', 'LandSlope_Mod', 'LandSlope_Gtl', 'BsmtFinType2_nan', 'BsmtFinType2_Unf', 'BsmtFinType2_Rec', 'BsmtFinType2_LwQ', 'BsmtFinType2_GLQ', 'BsmtFinType2_ALQ', 'PoolQC_nan', 'PoolQC_Gd', 'PoolQC_Fa', 'PoolQC_Ex', 'GarageCond_nan', 'GarageCond_Gd', 'GarageCond_Fa', 'GarageCond_Ex', 'Heating_Wall', 'Heating_OthW', 'BsmtFinType1_nan', 'Heating_GasW', 'Heating_Floor', 'Heating_GasA']\n",
    "\n",
    "feature_Gradient=['OverallQual', 'GrLivArea', 'YearBuilt', 'TotalBsmtSF', 'GarageCars', 'BsmtFinSF1', 'YearRemodAdd', 'GarageArea', 'LotArea', 'Fireplaces', 'OverallCond', 'CentralAir_N', '1stFlrSF', 'MSZoning_RM', 'LotFrontage', 'CentralAir_Y', 'KitchenQual', 'FireplaceQu_nan', 'OpenPorchSF', '2ndFlrSF', 'BsmtQual', 'GarageType_Attchd', 'WoodDeckSF', 'BsmtFullBath', 'BsmtExposure_Gd', 'HeatingQC_Fa', 'BsmtUnfSF', 'BsmtExposure_No', 'MoSold', 'SaleCondition_Abnorml', 'Functional_Typ', 'Neighborhood_Crawfor', 'GarageYrBlt_1965.0', 'BsmtFinType1_GLQ', 'ExterQual', 'ExterCond_Fa', 'Exterior1st_BrkFace', 'GarageYrBlt_1977.0', 'MSZoning_C (all)', 'ScreenPorch', 'GarageCond_nan', 'SaleType_New', 'BsmtFinSF2', 'GarageQual_TA', 'SaleCondition_Family', 'PoolArea', 'Condition1_Norm', 'HouseStyle_SLvl', 'Exterior1st_AsbShng', 'LotConfig_CulDSac', 'Neighborhood_OldTown', 'Neighborhood_Mitchel', 'YrSold', 'Functional_Maj2', 'GarageFinish_Unf', 'MasVnrArea', 'GarageType_CarPort', 'GarageType_nan', 'GarageYrBlt_2007.0', 'PavedDrive_N', 'BsmtCond_Fa', 'Condition1_Artery', 'Neighborhood_StoneBr', 'LandContour_Bnk', 'Foundation_PConc', 'EnclosedPorch', 'BsmtFinType1_ALQ', 'GarageYrBlt_2008.0', 'HalfBath', 'Neighborhood_BrkSide', 'GarageYrBlt_1957.0', 'GarageFinish_RFn', 'GarageFinish_Fin', 'BsmtCond_TA', 'FireplaceQu_TA', 'MasVnrType_BrkFace', 'GarageYrBlt_1968.0', 'Neighborhood_Edwards', 'MSZoning_FV', 'Exterior1st_MetalSd', 'RoofMatl_ClyTile', 'LotConfig_FR2', 'SaleType_COD', 'LotShape_IR2', 'Exterior1st_VinylSd', 'Neighborhood_NAmes', 'SaleType_WD', 'TotRmsAbvGrd', 'LandContour_Low', 'MSSubClass', 'Condition1_RRAe', 'Condition1_PosN', 'HouseStyle_1Story', 'Exterior2nd_MetalSd', 'LotConfig_Inside', 'BsmtExposure_Av', '3SsnPorch', 'Neighborhood_ClearCr', 'GarageYrBlt_1958.0', 'Foundation_Wood', 'RoofStyle_Gable', 'GarageYrBlt_1945.0', 'BldgType_1Fam', 'SaleType_ConLD', 'GarageYrBlt_1963.0', 'Functional_Mod', 'Neighborhood_Sawyer', 'GarageYrBlt_1953.0', 'BldgType_Duplex', 'PavedDrive_P', 'RoofStyle_Hip', 'FullBath', 'GarageYrBlt_1997.0', 'Neighborhood_MeadowV', 'Condition1_PosA', 'Exterior2nd_VinylSd', 'BsmtFinType2_LwQ', 'Alley_Grvl', 'ExterCond_TA', 'GarageYrBlt_1936.0', 'HouseStyle_2.5Unf', 'Neighborhood_SawyerW', 'GarageYrBlt_1960.0', 'MSZoning_RL', 'RoofStyle_Flat', 'LandSlope_Mod', 'GarageYrBlt_1991.0', 'MiscVal', 'LotConfig_FR3', 'BsmtFinType2_ALQ', 'Exterior1st_Plywood', 'FireplaceQu_Fa', 'BsmtFinType1_LwQ', 'SaleType_Oth', 'Exterior1st_AsphShn', 'GarageYrBlt_1948.0', 'GarageYrBlt_1935.0', 'GarageYrBlt_1956.0', 'HeatingQC_Gd', 'GarageYrBlt_1987.0', 'Exterior1st_HdBoard', 'GarageYrBlt_1970.0', 'Condition1_Feedr', 'GarageYrBlt_1954.0', 'HeatingQC_Ex', 'GarageYrBlt_1959.0', 'FireplaceQu_Po', 'HeatingQC_TA', 'Fence_GdWo', 'LandContour_Lvl', 'Neighborhood_Veenker', 'GarageYrBlt_1974.0', 'LandContour_HLS', 'Functional_Maj1', 'PavedDrive_Y', 'Fence_MnPrv', 'BsmtHalfBath', 'SaleType_CWD', 'GarageYrBlt_1994.0', 'Electrical_FuseF', 'MasVnrType_BrkCmn', 'BsmtFinType1_BLQ', 'BsmtFinType1_Rec', 'GarageYrBlt_1946.0', 'GarageYrBlt_1921.0', 'Exterior2nd_HdBoard', 'GarageYrBlt_1900.0', 'MSZoning_RH', 'FireplaceQu_Gd', 'GarageYrBlt_1967.0', 'SaleCondition_AdjLand', 'HouseStyle_2Story', 'GarageYrBlt_1961.0', 'Neighborhood_SWISU', 'Neighborhood_IDOTRR', 'RoofMatl_Tar&Grv', 'GarageCond_Po', 'GarageType_BuiltIn', 'RoofMatl_CompShg', 'GarageQual_Fa', 'Exterior1st_Wd Sdng', 'GarageYrBlt_1941.0', 'GarageYrBlt_1940.0', 'SaleType_ConLI', 'Fence_GdPrv', 'Exterior2nd_Wd Sdng', 'Exterior2nd_Wd Shng', 'Exterior2nd_Stucco', 'GarageYrBlt_2006.0', 'GarageYrBlt_2002.0', 'SaleCondition_Normal', 'Neighborhood_NoRidge', 'Exterior2nd_Plywood', 'Neighborhood_Somerst', 'BsmtFinType1_Unf', 'RoofMatl_WdShngl', 'GarageQual_nan', 'GarageType_Basment', 'HouseStyle_1.5Fin', 'GarageYrBlt_2003.0', 'GarageYrBlt_2001.0', 'ExterCond_Ex', 'Heating_OthW', 'Exterior1st_BrkComm', 'Fence_nan', 'Neighborhood_NridgHt', 'Neighborhood_Blmngtn', 'GarageYrBlt_1964.0', 'GarageYrBlt_1976.0', 'GarageYrBlt_1926.0', 'Electrical_SBrkr', 'LotConfig_Corner', 'MiscFeature_Shed', 'GarageYrBlt_1928.0', 'LotShape_Reg', 'Neighborhood_Timber', 'Foundation_BrkTil', 'GarageYrBlt_2005.0', 'GarageYrBlt_1930.0', 'Functional_Min1', 'LandSlope_Sev', 'MasVnrType_None', 'GarageYrBlt_1969.0', 'GarageYrBlt_1975.0', 'Exterior2nd_AsbShng', 'PoolQC_nan', 'GarageYrBlt_2000.0', 'GarageCond_Fa', 'Foundation_CBlock', 'GarageYrBlt_1925.0', 'Functional_Min2', 'GarageYrBlt_1985.0', 'Exterior2nd_Brk Cmn', 'Neighborhood_CollgCr', 'LandSlope_Gtl', 'HouseStyle_SFoyer', 'BsmtFinType2_BLQ', 'Neighborhood_NWAmes', 'BldgType_TwnhsE', 'GarageYrBlt_1955.0', 'BsmtExposure_Mn', 'GarageYrBlt_1996.0', 'Alley_Pave', 'GarageCond_TA', 'Exterior1st_WdShing', 'ExterCond_Gd', 'LowQualFinSF', 'GarageType_Detchd', 'LotShape_IR3', 'MasVnrType_Stone', 'Alley_nan', 'GarageYrBlt_1983.0', 'GarageYrBlt_1923.0', 'GarageYrBlt_1989.0', 'GarageYrBlt_nan', 'Neighborhood_NPkVill', 'GarageYrBlt_1932.0', 'PoolQC_Fa', 'GarageYrBlt_1922.0', 'BldgType_Twnhs', 'GarageYrBlt_1950.0', 'Electrical_FuseA', 'Condition2_Feedr', 'Condition2_PosN', 'GarageYrBlt_1951.0', 'LotShape_IR1', 'GarageYrBlt_1978.0', 'GarageYrBlt_1998.0', 'Heating_Grav', 'MiscFeature_Othr', 'GarageYrBlt_1980.0', 'GarageYrBlt_1939.0', 'GarageYrBlt_1971.0', 'GarageYrBlt_1984.0', 'BsmtExposure_nan', 'Condition1_RRAn', 'GarageYrBlt_1972.0', 'BsmtCond_Po', 'GarageYrBlt_1986.0', 'GarageYrBlt_1982.0', 'GarageYrBlt_1979.0', 'Fence_MnWw', 'Utilities_AllPub', 'Exterior2nd_AsphShn', 'GarageYrBlt_1999.0', 'Utilities_NoSeWa', 'Heating_GasW', 'GarageYrBlt_1952.0', 'Exterior1st_CemntBd', 'GarageYrBlt_2009.0', 'RoofStyle_Gambrel', 'BsmtFinType2_Unf', 'GarageYrBlt_1995.0', 'BsmtFinType1_nan', 'PoolQC_Gd', 'GarageCond_Gd', 'HouseStyle_2.5Fin', 'GarageQual_Gd', 'GarageYrBlt_1993.0', 'GarageFinish_nan', 'BsmtFinType2_Rec', 'Condition2_Norm', 'GarageYrBlt_2004.0', 'GarageYrBlt_1929.0', 'GarageYrBlt_1942.0', 'GarageYrBlt_1938.0', 'GarageYrBlt_1937.0', 'GarageYrBlt_1934.0', 'BldgType_2fmCon', 'GarageYrBlt_1933.0', 'GarageYrBlt_1931.0', 'GarageYrBlt_1927.0', 'GarageYrBlt_1947.0', 'GarageYrBlt_1924.0', 'GarageYrBlt_1920.0', 'GarageYrBlt_1919.0', 'Exterior2nd_BrkFace', 'Exterior2nd_CBlock', 'Exterior2nd_CmentBd', 'GarageYrBlt_1918.0', 'Exterior2nd_ImStucc', 'GarageYrBlt_1943.0', 'RoofMatl_Membran', 'GarageYrBlt_2010.0', 'GarageYrBlt_1973.0', 'GarageYrBlt_1992.0', 'GarageYrBlt_1990.0', 'HeatingQC_Po', 'GarageYrBlt_1988.0', 'GarageYrBlt_2207.0', 'GarageYrBlt_1981.0', 'RoofMatl_Roll', 'RoofMatl_Metal', 'RoofStyle_Mansard', 'MiscFeature_nan', 'ExterCond_Po', 'RoofStyle_Shed', 'GarageYrBlt_1966.0', 'Exterior2nd_Other', 'GarageYrBlt_1962.0', 'MiscFeature_Gar2', 'MiscFeature_TenC', 'GarageYrBlt_1949.0', 'GarageYrBlt_1917.0', 'GarageYrBlt_1910.0', 'GarageYrBlt_1916.0', 'Exterior2nd_Stone', 'Exterior1st_Stucco', 'Exterior1st_Stone', 'Exterior1st_ImStucc', 'SaleCondition_Alloca', 'Exterior1st_CBlock', 'SaleCondition_Partial', 'RoofMatl_WdShake', 'HouseStyle_1.5Unf', 'Functional_Sev', 'GarageType_2Types', 'BsmtCond_nan', 'BsmtCond_Gd', 'Neighborhood_Gilbert', 'Street_Grvl', 'Street_Pave', 'FireplaceQu_Ex', 'Neighborhood_BrDale', 'Neighborhood_Blueste', 'Electrical_Mix', 'Electrical_FuseP', 'Condition1_RRNn', 'Heating_Floor', 'Heating_Wall', 'GarageCond_Ex', 'Condition2_RRAn', 'GarageYrBlt_1915.0', 'GarageYrBlt_1914.0', 'Condition1_RRNe', 'GarageYrBlt_1908.0', 'Condition2_Artery', 'GarageYrBlt_1906.0', 'Condition2_PosA', 'GarageYrBlt_1896.0', 'Condition2_RRAe', 'Condition2_RRNn', 'PoolQC_Ex', 'GarageYrBlt_1895.0', 'SaleType_ConLw', 'SaleType_Con', 'Foundation_Slab', 'Foundation_Stone', 'BsmtFinType2_nan', 'GarageQual_Ex', 'GarageQual_Po', 'BsmtFinType2_GLQ', 'Heating_GasA']\n",
    "\n",
    "feature_RandomForest=['OverallQual', 'GrLivArea', 'GarageCars', 'GarageArea', 'TotalBsmtSF', '1stFlrSF', 'BsmtFinSF1', 'CentralAir_Y', 'CentralAir_N', 'YearBuilt', 'Fireplaces', 'FireplaceQu_nan', 'BsmtQual', 'LotArea', 'MSZoning_RM', 'GarageType_Detchd', '2ndFlrSF', 'KitchenQual', 'GarageFinish_Unf', 'YearRemodAdd', 'FullBath', 'MSZoning_RL', 'LotShape_Reg', 'Neighborhood_OldTown', 'GarageCond_TA', 'ExterQual', 'OverallCond', 'MSSubClass', 'TotRmsAbvGrd', 'OpenPorchSF', 'LotFrontage', 'PavedDrive_N', 'GarageFinish_nan', 'GarageType_Attchd', 'HeatingQC_Fa', 'ExterCond_Fa', 'RoofStyle_Hip', 'Alley_nan', 'Fence_GdWo', 'Neighborhood_NoRidge', 'BsmtUnfSF', 'Electrical_FuseA', 'Electrical_FuseF', 'Electrical_FuseP', 'Electrical_Mix', 'Electrical_SBrkr', 'Neighborhood_Blmngtn', 'Utilities_AllPub', 'Neighborhood_Blueste', 'Condition1_RRNn', 'Neighborhood_BrkSide', 'Neighborhood_ClearCr', 'Neighborhood_CollgCr', 'Neighborhood_Crawfor', 'Neighborhood_Edwards', 'Neighborhood_Gilbert', 'Neighborhood_IDOTRR', 'Neighborhood_BrDale', 'Condition1_RRAn', 'Condition1_RRNe', 'LotShape_IR1', 'FireplaceQu_Po', 'FireplaceQu_TA', 'Exterior1st_ImStucc', 'GarageFinish_Fin', 'GarageFinish_RFn', 'Exterior1st_HdBoard', 'Exterior1st_CemntBd', 'LotShape_IR2', 'Neighborhood_Mitchel', 'LotShape_IR3', 'Condition1_Artery', 'Condition1_Feedr', 'Condition1_Norm', 'Condition1_PosA', 'Condition1_PosN', 'Condition1_RRAe', 'Neighborhood_MeadowV', 'Neighborhood_NWAmes', 'Neighborhood_NAmes', 'Functional_Mod', 'GarageType_CarPort', 'Exterior1st_BrkComm', 'GarageType_nan', 'Functional_Maj1', 'Functional_Maj2', 'Functional_Min1', 'Functional_Min2', 'Exterior1st_AsphShn', 'GarageType_BuiltIn', 'Functional_Sev', 'Functional_Typ', 'Exterior1st_AsbShng', 'Utilities_NoSeWa', 'LandContour_Bnk', 'LandContour_HLS', 'LandContour_Low', 'Exterior1st_BrkFace', 'GarageType_Basment', 'Neighborhood_NPkVill', 'Neighborhood_StoneBr', 'LandContour_Lvl', 'Neighborhood_NridgHt', 'Exterior1st_CBlock', 'Neighborhood_SWISU', 'Neighborhood_Sawyer', 'Neighborhood_SawyerW', 'Neighborhood_Somerst', 'Neighborhood_Timber', 'FireplaceQu_Fa', 'Neighborhood_Veenker', 'BsmtCond_Fa', 'BsmtCond_Gd', 'BsmtCond_Po', 'BsmtCond_TA', 'BsmtCond_nan', 'GarageType_2Types', 'FireplaceQu_Gd', 'SaleCondition_Alloca', 'FireplaceQu_Ex', 'Exterior2nd_CBlock', 'BsmtExposure_nan', 'MSZoning_C (all)', 'MSZoning_FV', 'MSZoning_RH', 'Exterior2nd_AsbShng', 'Exterior2nd_AsphShn', 'Exterior2nd_Brk Cmn', 'Exterior2nd_BrkFace', 'Exterior2nd_CmentBd', 'BsmtExposure_Mn', 'Exterior2nd_HdBoard', 'Exterior2nd_ImStucc', 'Exterior2nd_MetalSd', 'Exterior2nd_Other', 'Exterior2nd_Plywood', 'Exterior2nd_Stone', 'Exterior2nd_Stucco', 'Exterior2nd_VinylSd', 'BsmtExposure_No', 'BsmtExposure_Gd', 'Exterior2nd_Wd Shng', 'HeatingQC_TA', 'BsmtHalfBath', 'HalfBath', 'YrSold', 'MoSold', 'BsmtFullBath', 'HeatingQC_Ex', 'HeatingQC_Gd', 'HeatingQC_Po', 'RoofStyle_Flat', 'BsmtExposure_Av', 'RoofStyle_Gable', 'RoofStyle_Gambrel', 'RoofStyle_Mansard', 'RoofStyle_Shed', 'Fence_GdPrv', 'Fence_MnPrv', 'Fence_MnWw', 'Fence_nan', 'Exterior2nd_Wd Sdng', 'Condition2_Artery', 'Street_Pave', 'SaleCondition_Partial', 'LotConfig_FR2', 'LotConfig_FR3', 'LotConfig_Inside', 'SaleCondition_Abnorml', 'SaleCondition_AdjLand', 'Exterior1st_Plywood', 'SaleCondition_Family', 'SaleCondition_Normal', 'HouseStyle_1.5Fin', 'LotConfig_Corner', 'HouseStyle_1.5Unf', 'HouseStyle_1Story', 'HouseStyle_2.5Fin', 'HouseStyle_2.5Unf', 'HouseStyle_2Story', 'HouseStyle_SFoyer', 'HouseStyle_SLvl', 'Street_Grvl', 'LotConfig_CulDSac', 'Alley_Pave', 'Condition2_Feedr', 'Foundation_PConc', 'Condition2_Norm', 'Condition2_PosA', 'Condition2_PosN', 'Condition2_RRAe', 'Condition2_RRAn', 'Condition2_RRNn', 'Foundation_BrkTil', 'Foundation_CBlock', 'Foundation_Slab', 'Alley_Grvl', 'Foundation_Stone', 'Foundation_Wood', 'GarageQual_Ex', 'GarageQual_Fa', 'GarageQual_Gd', 'GarageQual_Po', 'GarageQual_TA', 'GarageQual_nan', 'Exterior1st_MetalSd', 'ScreenPorch', 'Exterior1st_Stone', 'GarageYrBlt_1995.0', 'GarageYrBlt_1986.0', 'GarageYrBlt_1987.0', 'GarageYrBlt_1988.0', 'GarageYrBlt_1989.0', 'GarageYrBlt_1990.0', 'GarageYrBlt_1991.0', 'GarageYrBlt_1992.0', 'GarageYrBlt_1993.0', 'GarageYrBlt_1994.0', 'GarageYrBlt_1996.0', 'GarageYrBlt_2007.0', 'GarageYrBlt_1997.0', 'GarageYrBlt_1998.0', 'GarageYrBlt_1999.0', 'GarageYrBlt_2000.0', 'GarageYrBlt_2001.0', 'GarageYrBlt_2002.0', 'GarageYrBlt_2003.0', 'GarageYrBlt_2004.0', 'GarageYrBlt_2005.0', 'GarageYrBlt_1985.0', 'GarageYrBlt_1984.0', 'GarageYrBlt_1983.0', 'GarageYrBlt_1982.0', 'GarageYrBlt_1963.0', 'GarageYrBlt_1964.0', 'GarageYrBlt_1965.0', 'GarageYrBlt_1966.0', 'GarageYrBlt_1967.0', 'GarageYrBlt_1968.0', 'GarageYrBlt_1969.0', 'GarageYrBlt_1970.0', 'GarageYrBlt_1971.0', 'GarageYrBlt_1972.0', 'GarageYrBlt_1973.0', 'GarageYrBlt_1974.0', 'GarageYrBlt_1975.0', 'GarageYrBlt_1976.0', 'GarageYrBlt_1977.0', 'GarageYrBlt_1978.0', 'GarageYrBlt_1979.0', 'GarageYrBlt_1980.0', 'GarageYrBlt_1981.0', 'GarageYrBlt_2006.0', 'GarageYrBlt_2008.0', 'Exterior1st_Stucco', 'BldgType_2fmCon', 'RoofMatl_Roll', 'RoofMatl_Tar&Grv', 'RoofMatl_WdShake', 'RoofMatl_WdShngl', 'MasVnrType_BrkCmn', 'MasVnrType_BrkFace', 'MasVnrType_None', 'MasVnrType_Stone', 'BldgType_1Fam', 'BldgType_Duplex', 'GarageYrBlt_2009.0', 'BldgType_Twnhs', 'BldgType_TwnhsE', 'EnclosedPorch', 'BsmtFinSF2', 'WoodDeckSF', 'MasVnrArea', 'PoolArea', '3SsnPorch', 'LowQualFinSF', 'RoofMatl_Metal', 'RoofMatl_Membran', 'RoofMatl_CompShg', 'RoofMatl_ClyTile', 'GarageYrBlt_2010.0', 'GarageYrBlt_2207.0', 'GarageYrBlt_nan', 'ExterCond_Ex', 'ExterCond_Gd', 'ExterCond_Po', 'ExterCond_TA', 'MiscFeature_Gar2', 'MiscFeature_Othr', 'MiscFeature_Shed', 'MiscFeature_TenC', 'MiscFeature_nan', 'BsmtFinType1_ALQ', 'BsmtFinType1_BLQ', 'BsmtFinType1_GLQ', 'BsmtFinType1_LwQ', 'BsmtFinType1_Rec', 'BsmtFinType1_Unf', 'BsmtFinType1_nan', 'GarageYrBlt_1962.0', 'GarageYrBlt_1961.0', 'GarageYrBlt_1960.0', 'SaleType_Con', 'BsmtFinType2_LwQ', 'BsmtFinType2_Rec', 'BsmtFinType2_Unf', 'BsmtFinType2_nan', 'LandSlope_Gtl', 'LandSlope_Mod', 'LandSlope_Sev', 'SaleType_COD', 'SaleType_CWD', 'SaleType_ConLD', 'GarageYrBlt_1959.0', 'SaleType_ConLI', 'SaleType_ConLw', 'SaleType_New', 'SaleType_Oth', 'SaleType_WD', 'GarageYrBlt_1895.0', 'GarageYrBlt_1896.0', 'GarageYrBlt_1900.0', 'GarageYrBlt_1906.0', 'BsmtFinType2_GLQ', 'BsmtFinType2_BLQ', 'BsmtFinType2_ALQ', 'PoolQC_nan', 'Exterior1st_VinylSd', 'Exterior1st_Wd Sdng', 'Exterior1st_WdShing', 'PavedDrive_P', 'PavedDrive_Y', 'Heating_Floor', 'MiscVal', 'Heating_GasW', 'Heating_Grav', 'Heating_OthW', 'Heating_Wall', 'GarageCond_Ex', 'GarageCond_Fa', 'GarageCond_Gd', 'GarageCond_Po', 'GarageCond_nan', 'PoolQC_Ex', 'PoolQC_Fa', 'PoolQC_Gd', 'GarageYrBlt_1908.0', 'GarageYrBlt_1910.0', 'GarageYrBlt_1914.0', 'GarageYrBlt_1937.0', 'GarageYrBlt_1939.0', 'GarageYrBlt_1940.0', 'GarageYrBlt_1941.0', 'GarageYrBlt_1942.0', 'GarageYrBlt_1943.0', 'GarageYrBlt_1945.0', 'GarageYrBlt_1946.0', 'GarageYrBlt_1947.0', 'GarageYrBlt_1948.0', 'GarageYrBlt_1949.0', 'GarageYrBlt_1950.0', 'GarageYrBlt_1951.0', 'GarageYrBlt_1952.0', 'GarageYrBlt_1953.0', 'GarageYrBlt_1954.0', 'GarageYrBlt_1955.0', 'GarageYrBlt_1956.0', 'GarageYrBlt_1957.0', 'GarageYrBlt_1958.0', 'GarageYrBlt_1938.0', 'GarageYrBlt_1936.0', 'GarageYrBlt_1915.0', 'GarageYrBlt_1935.0', 'GarageYrBlt_1916.0', 'GarageYrBlt_1917.0', 'GarageYrBlt_1918.0', 'GarageYrBlt_1919.0', 'GarageYrBlt_1920.0', 'GarageYrBlt_1921.0', 'GarageYrBlt_1922.0', 'GarageYrBlt_1923.0', 'GarageYrBlt_1924.0', 'GarageYrBlt_1925.0', 'GarageYrBlt_1926.0', 'GarageYrBlt_1927.0', 'GarageYrBlt_1928.0', 'GarageYrBlt_1929.0', 'GarageYrBlt_1930.0', 'GarageYrBlt_1931.0', 'GarageYrBlt_1932.0', 'GarageYrBlt_1933.0', 'GarageYrBlt_1934.0', 'Heating_GasA']"
   ]
  },
  {
   "cell_type": "markdown",
   "metadata": {},
   "source": [
    "원핫인코딩으로 생긴 _nan같은 것을 제거하고 어떤 특성이 뽑혔는지 파악"
   ]
  },
  {
   "cell_type": "code",
   "execution_count": 253,
   "metadata": {},
   "outputs": [],
   "source": [
    "feature_XGBoost=top_feature(feature_XGBoost)\n",
    "feature_Gradient=top_feature(feature_Gradient)\n",
    "feature_RandomForest=top_feature(feature_RandomForest)"
   ]
  },
  {
   "cell_type": "markdown",
   "metadata": {},
   "source": [
    "# 2. xgboost 모델의 feature importance의 상위 50개 리스트"
   ]
  },
  {
   "cell_type": "code",
   "execution_count": 254,
   "metadata": {},
   "outputs": [
    {
     "name": "stdout",
     "output_type": "stream",
     "text": [
      "['GarageCars', 'MSZoning', 'GarageCond', 'OverallQual', 'GarageType', 'GrLivArea', 'BsmtQual', 'TotalBsmtSF', 'YearRemodAdd', 'Neighborhood', 'Exterior2nd', 'BsmtFinSF1', 'SaleType', 'BldgType', 'YearBuilt', 'KitchenQual', 'PavedDrive', 'BsmtExposure', 'Fireplaces', 'GarageFinish', 'HalfBath', 'LandContour', 'GarageYrBlt', 'LotShape', 'CentralAir', 'LotArea', 'Functional', 'OverallCond', 'HeatingQC', 'Heating', 'GarageArea', 'BsmtFinType1', 'SaleCondition', 'Condition1', 'BsmtCond', 'PoolArea', 'Fence', 'HouseStyle', '1stFlrSF', 'ScreenPorch', 'SalePrice']\n",
      "['BsmtFullBath', 'LotConfig', 'LotFrontage', 'WoodDeckSF', 'MasVnrType', '2ndFlrSF', 'Exterior1st', 'OpenPorchSF', 'FireplaceQu', 'RoofStyle', 'BsmtFinType2', 'Foundation', 'GarageQual', 'BsmtFinSF2', 'EnclosedPorch', 'ExterQual', 'FullBath', 'ExterCond', 'MoSold', 'BsmtUnfSF', 'BsmtHalfBath', 'Condition2', 'YrSold', 'TotRmsAbvGrd', 'Alley', 'Electrical', 'MasVnrArea', 'MSSubClass', 'MiscVal', '3SsnPorch', 'RoofMatl', 'LowQualFinSF', 'MiscFeature', 'Street', 'Utilities', 'LandSlope', 'PoolQC']\n"
     ]
    }
   ],
   "source": [
    "# 상위 50개\n",
    "top_50=feature_XGBoost[:40]\n",
    "top_50.append('SalePrice')\n",
    "print(top_50)\n",
    "# 나머지 -> erase 리스트\n",
    "print(feature_XGBoost[40:])"
   ]
  },
  {
   "cell_type": "markdown",
   "metadata": {},
   "source": [
    "-> 상위 특성 50개.ipynb에 사용"
   ]
  },
  {
   "cell_type": "markdown",
   "metadata": {},
   "source": [
    "# 3. 3개 모델에서 전부 나온 특성들 profile"
   ]
  },
  {
   "cell_type": "code",
   "execution_count": 255,
   "metadata": {},
   "outputs": [],
   "source": [
    "main=list(set(feature_XGBoost).intersection(set(feature_Gradient),set(feature_RandomForest)))"
   ]
  },
  {
   "cell_type": "code",
   "execution_count": 256,
   "metadata": {},
   "outputs": [
    {
     "name": "stdout",
     "output_type": "stream",
     "text": [
      "['PavedDrive', 'FullBath', 'BsmtUnfSF', 'MSSubClass', 'HalfBath', 'TotRmsAbvGrd', 'PoolQC', 'Foundation', 'CentralAir', 'Utilities', 'YrSold', 'HeatingQC', 'Fence', 'WoodDeckSF', 'BsmtFullBath', 'GarageCars', 'TotalBsmtSF', 'LotConfig', 'BsmtQual', 'Neighborhood', 'GarageYrBlt', 'GarageArea', 'LandContour', 'Heating', 'MiscVal', 'BsmtFinSF2', 'BsmtExposure', '2ndFlrSF', '1stFlrSF', 'Exterior1st', 'GrLivArea', 'GarageCond', 'ScreenPorch', 'KitchenQual', 'RoofMatl', 'Exterior2nd', 'ExterCond', 'BsmtFinSF1', 'BsmtHalfBath', 'Alley', 'HouseStyle', 'Condition1', 'OpenPorchSF', 'MSZoning', 'Fireplaces', 'BldgType', 'MoSold', 'MasVnrType', 'OverallQual', 'YearRemodAdd', 'ExterQual', 'Condition2', 'LowQualFinSF', 'EnclosedPorch', '3SsnPorch', 'Electrical', 'LotFrontage', 'LotArea', 'BsmtCond', 'BsmtFinType1', 'GarageFinish', 'OverallCond', 'MasVnrArea', 'BsmtFinType2', 'GarageQual', 'SaleCondition', 'GarageType', 'Functional', 'FireplaceQu', 'MiscFeature', 'PoolArea', 'RoofStyle', 'Street', 'YearBuilt', 'LotShape', 'LandSlope', 'SaleType']\n"
     ]
    }
   ],
   "source": [
    "print(main)"
   ]
  },
  {
   "cell_type": "code",
   "execution_count": 257,
   "metadata": {},
   "outputs": [],
   "source": [
    "# import pandas_profiling\n",
    "# pr=data[main].profile_report()\n",
    "# pr.to_file(f'./main_profile.html')"
   ]
  }
 ],
 "metadata": {
  "kernelspec": {
   "display_name": "base",
   "language": "python",
   "name": "python3"
  },
  "language_info": {
   "codemirror_mode": {
    "name": "ipython",
    "version": 3
   },
   "file_extension": ".py",
   "mimetype": "text/x-python",
   "name": "python",
   "nbconvert_exporter": "python",
   "pygments_lexer": "ipython3",
   "version": "3.9.13"
  },
  "orig_nbformat": 4
 },
 "nbformat": 4,
 "nbformat_minor": 2
}
