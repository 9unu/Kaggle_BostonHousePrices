{
 "cells": [
  {
   "cell_type": "markdown",
   "metadata": {},
   "source": [
    "# 결측치를 좀더 꼼꼼하게 대치"
   ]
  },
  {
   "cell_type": "markdown",
   "metadata": {},
   "source": [
    "## 1. Data Load"
   ]
  },
  {
   "cell_type": "code",
   "execution_count": 336,
   "metadata": {},
   "outputs": [],
   "source": [
    "\n",
    "import pandas as pd\n",
    "import numpy as np\n",
    "\n",
    "train=pd.read_csv(r\"C:\\Users\\USER\\Desktop\\캐글 모델링\\boston house\\data\\train.csv\", index_col='Id')\n",
    "test=pd.read_csv(r\"C:\\Users\\USER\\Desktop\\캐글 모델링\\boston house\\data\\test.csv\", index_col='Id')\n",
    "# 프로파일 및 eda 목적용 데이터 프레임\n",
    "data=pd.concat([train, test], sort=False)\n"
   ]
  },
  {
   "cell_type": "markdown",
   "metadata": {},
   "source": [
    "## 2. 결측치 확인"
   ]
  },
  {
   "cell_type": "code",
   "execution_count": 337,
   "metadata": {},
   "outputs": [],
   "source": [
    "missing_col=list(data.columns[data.isnull().any()])\n",
    "missing_sorted=data[missing_col].isnull().sum().sort_values(ascending=False)\n",
    "\n",
    "#결측치가 '없음'을 의미하는 특성들의 결측치는 'nan'으로 채움\n",
    "non_col=[\n",
    "    \"Alley\", \"BsmtQual\", \"BsmtCond\", \"BsmtExposure\", \"BsmtFinType1\",\n",
    "    \"BsmtFinType2\", \"FireplaceQu\", \"GarageType\", \"GarageFinish\",\n",
    "    \"GarageQual\", \"GarageCond\", \"PoolQC\", \"Fence\", \"MiscFeature\"\n",
    "]\n",
    "for i in non_col:\n",
    "    data[i]=data[i].fillna('nan')\n",
    "\n",
    "for i in non_col:\n",
    "     missing_col.remove(i)"
   ]
  },
  {
   "cell_type": "code",
   "execution_count": 338,
   "metadata": {},
   "outputs": [
    {
     "name": "stdout",
     "output_type": "stream",
     "text": [
      "['MSZoning', 'LotFrontage', 'Utilities', 'Exterior1st', 'Exterior2nd', 'MasVnrType', 'MasVnrArea', 'BsmtFinSF1', 'BsmtFinSF2', 'BsmtUnfSF', 'TotalBsmtSF', 'Electrical', 'BsmtFullBath', 'BsmtHalfBath', 'KitchenQual', 'Functional', 'GarageYrBlt', 'GarageCars', 'GarageArea', 'SaleType', 'SalePrice']\n",
      "SalePrice       1459\n",
      "LotFrontage      486\n",
      "GarageYrBlt      159\n",
      "MasVnrType        24\n",
      "MasVnrArea        23\n",
      "MSZoning           4\n",
      "BsmtFullBath       2\n",
      "BsmtHalfBath       2\n",
      "Functional         2\n",
      "Utilities          2\n",
      "Exterior2nd        1\n",
      "BsmtFinSF1         1\n",
      "BsmtFinSF2         1\n",
      "BsmtUnfSF          1\n",
      "Exterior1st        1\n",
      "Electrical         1\n",
      "KitchenQual        1\n",
      "GarageCars         1\n",
      "GarageArea         1\n",
      "SaleType           1\n",
      "TotalBsmtSF        1\n",
      "dtype: int64\n"
     ]
    }
   ],
   "source": [
    "missing_col=list(data.columns[data.isnull().any()])\n",
    "missing_sorted=data[missing_col].isnull().sum().sort_values(ascending=False)\n",
    "print(missing_col)\n",
    "print(missing_sorted)"
   ]
  },
  {
   "cell_type": "code",
   "execution_count": 339,
   "metadata": {},
   "outputs": [],
   "source": [
    "# import pandas_profiling\n",
    "# pr=data[missing_col].profile_report()\n",
    "# pr.to_file(f'./결측치 컬럼.html')"
   ]
  },
  {
   "cell_type": "markdown",
   "metadata": {},
   "source": [
    "LotFrontage      486\n",
    "\n",
    "GarageYrBlt      159\n",
    "\n",
    "MasVnrType        24\n",
    "\n",
    "MasVnrArea        23\n",
    "\n",
    "이 4가지를 제외하면 결측치가 1,2,4개로\n",
    "\n",
    "위의 4가지의 결측치 처리가 가장 중요함"
   ]
  },
  {
   "cell_type": "markdown",
   "metadata": {},
   "source": [
    "최빈값\n",
    "MSZoning\n",
    "Utilities\n",
    "Exterior1st\n",
    "Exterior2nd\n",
    "BsmtFinSF1\n",
    "BsmtFinSF2\n",
    "BsmtUnfSF\n",
    "Electrical\n",
    "BsmtFullBath\n",
    "BsmtHalfBath\n",
    "KitchenQual\n",
    "Functional\n",
    "GarageCars\n",
    "SaleType\n",
    "\n",
    "보류\n",
    "-MasVnrArea\n",
    "-LotFrontage\n",
    "-GarageYrBlt\n",
    "\n",
    "\n",
    "평균\n",
    "TotalBsmtSF\n",
    "GarageArea\n",
    "\n",
    "비율\n",
    "-MasVnrType\n"
   ]
  },
  {
   "cell_type": "markdown",
   "metadata": {},
   "source": [
    "1. 최빈값 대체"
   ]
  },
  {
   "cell_type": "code",
   "execution_count": 340,
   "metadata": {},
   "outputs": [],
   "source": [
    "mode_list=['MSZoning', 'Utilities', 'Exterior1st', 'Exterior2nd', \n",
    "                'BsmtFinSF1', 'BsmtFinSF2', 'BsmtUnfSF', 'Electrical', \n",
    "                'BsmtFullBath', 'BsmtHalfBath', 'KitchenQual', 'Functional', \n",
    "                'GarageCars', 'SaleType']\n",
    "for i in mode_list:\n",
    "    data[i] = data[i].fillna(data[i].mode().iloc[0])"
   ]
  },
  {
   "cell_type": "markdown",
   "metadata": {},
   "source": [
    "2. 평균값 대체"
   ]
  },
  {
   "cell_type": "code",
   "execution_count": 341,
   "metadata": {},
   "outputs": [],
   "source": [
    "mean_list=['TotalBsmtSF','GarageArea']\n",
    "for i in mean_list:\n",
    "    data[i] = data[i].fillna(data[i].mean())"
   ]
  },
  {
   "cell_type": "code",
   "execution_count": 342,
   "metadata": {},
   "outputs": [],
   "source": [
    "data[\"MasVnrArea\"] = data[\"MasVnrArea\"].fillna(0)"
   ]
  },
  {
   "cell_type": "code",
   "execution_count": 343,
   "metadata": {},
   "outputs": [],
   "source": [
    "#없음 = \"None\"\n",
    "data[\"MasVnrType\"] = data[\"MasVnrType\"].fillna(\"None\")"
   ]
  },
  {
   "cell_type": "code",
   "execution_count": 344,
   "metadata": {},
   "outputs": [],
   "source": [
    "# 이웃의 중앙값\n",
    "data[\"LotFrontage\"] = data.groupby(\"Neighborhood\")[\"LotFrontage\"].transform(lambda x: x.fillna(x.median()))"
   ]
  },
  {
   "cell_type": "code",
   "execution_count": 345,
   "metadata": {},
   "outputs": [],
   "source": [
    "#차고 건설연도에 결측값 -> 없다고 판단 (어차피 원핫인코딩할것이기때문에 nan으로 채움)\n",
    "data[\"GarageYrBlt\"] = data[\"GarageYrBlt\"].fillna('Nan')"
   ]
  },
  {
   "cell_type": "code",
   "execution_count": 346,
   "metadata": {},
   "outputs": [
    {
     "name": "stdout",
     "output_type": "stream",
     "text": [
      "['SalePrice']\n"
     ]
    }
   ],
   "source": [
    "missing_col=list(data.columns[data.isnull().any()])\n",
    "missing_sorted=data[missing_col].isnull().sum().sort_values(ascending=False)\n",
    "print(missing_col)"
   ]
  }
 ],
 "metadata": {
  "kernelspec": {
   "display_name": "base",
   "language": "python",
   "name": "python3"
  },
  "language_info": {
   "codemirror_mode": {
    "name": "ipython",
    "version": 3
   },
   "file_extension": ".py",
   "mimetype": "text/x-python",
   "name": "python",
   "nbconvert_exporter": "python",
   "pygments_lexer": "ipython3",
   "version": "3.9.13"
  },
  "orig_nbformat": 4
 },
 "nbformat": 4,
 "nbformat_minor": 2
}
