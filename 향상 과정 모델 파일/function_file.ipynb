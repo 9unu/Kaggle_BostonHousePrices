{
 "cells": [
  {
   "cell_type": "markdown",
   "metadata": {},
   "source": [
    "### 1. top_n_feature(original_list, top_n)\n",
    "\n",
    "feature imporatance에서 나온 순서대로 전체 특성을 입력하면\n",
    "\n",
    "순서를 유지하면서 원핫인코딩으로 인해 생긴 _GD와 같은 것들을 없애고,\n",
    "\n",
    "상위 top_n개의 특성 리스트와 나머지의 지워야할 리스트를 알려주는 함수"
   ]
  },
  {
   "cell_type": "code",
   "execution_count": 6,
   "metadata": {},
   "outputs": [],
   "source": [
    "def top_n_feature(original_list, top_n):\n",
    "    edit_list=[]\n",
    "    for i in original_list:\n",
    "        result=i.split('_')[0]\n",
    "        edit_list.append(result)\n",
    "    \n",
    "    ordered_feature_list=[]\n",
    "    seen=set()\n",
    "    for i in edit_list:\n",
    "        if i not in seen:\n",
    "            ordered_feature_list.append(i)\n",
    "            seen.add(i)\n",
    "    \n",
    "    total_list=[]        \n",
    "    top_n_list=ordered_feature_list[:top_n]\n",
    "    top_n_list.append('SalePrice')\n",
    "    erase_list=ordered_feature_list[top_n:]\n",
    "    total_list.append(f'top_n_list({top_n})'),\n",
    "    total_list.append(top_n_list)\n",
    "    total_list.append('erase_list')\n",
    "    total_list.append(erase_list)\n",
    "    # 타겟변수인 SalePrice도 추가\n",
    "    for i in total_list:\n",
    "        print(i)\n",
    "    \n",
    "    return total_list\n",
    "    "
   ]
  },
  {
   "cell_type": "markdown",
   "metadata": {},
   "source": [
    "### 2. model_val(model, X_train, y_train)\n",
    "\n",
    "교차검증 결과를 뽑아주는 함수 (RMSE 평균, 표준편차)가 출력되도록 설정되어있음\n"
   ]
  },
  {
   "cell_type": "code",
   "execution_count": 7,
   "metadata": {},
   "outputs": [],
   "source": [
    "from sklearn.model_selection import cross_validate\n",
    "from sklearn.metrics import mean_squared_error\n",
    "def model_val(model, X_train, y_train):\n",
    "    scoring = ['neg_mean_squared_error', 'neg_mean_absolute_error']\n",
    "    cv_results = cross_validate(model, X_train, y_train, scoring=scoring, cv=5, return_train_score=True)\n",
    "    \n",
    "    for fold in range(5):\n",
    "        rmse = np.sqrt(-cv_results['test_neg_mean_squared_error'][fold])\n",
    "        mse = -cv_results['test_neg_mean_squared_error'][fold]\n",
    "        score = -cv_results['test_neg_mean_absolute_error'][fold]\n",
    "        print(f\"CV Fold {fold + 1} - Score: {score:.4f}, MSE: {mse:.4f}, RMSE: {rmse:.4f}\")\n",
    "    \n",
    "    print(\"RMSE 평균:\", np.mean(np.sqrt(-cv_results['test_neg_mean_squared_error'])))\n",
    "    print(\"RMSE 표준편차:\", np.std(np.sqrt(-cv_results['test_neg_mean_squared_error'])))"
   ]
  },
  {
   "cell_type": "markdown",
   "metadata": {},
   "source": [
    "### 3. feature_importance(model, X_train, top_n=30)\n",
    "\n",
    "완성된 모델의 Feature를 feature_importance 순서대로 출력하고, 시각화하는 함수"
   ]
  },
  {
   "cell_type": "code",
   "execution_count": 8,
   "metadata": {},
   "outputs": [],
   "source": [
    "import matplotlib.pyplot as plt\n",
    "def feature_importance(model, X_train, top_n=30):\n",
    "    importance=model.feature_importances_\n",
    "    feature_names = X_train.columns\n",
    "    # feature importance를 기준으로 내림차순 정렬\n",
    "    sorted_idx = importance.argsort()[::-1]\n",
    "    sorted_names = [feature_names[i] for i in sorted_idx]\n",
    "    sorted_importance = importance[sorted_idx]\n",
    "\n",
    "    # 상위 top_n개만 선택\n",
    "    sorted_names = sorted_names[:top_n]\n",
    "    sorted_importance = sorted_importance[:top_n]\n",
    "    \n",
    "    #특성이름 출력\n",
    "    print(sorted_names)\n",
    "   \n",
    "    # 바 차트로 시각화\n",
    "    plt.figure(figsize=(5, 5))\n",
    "    plt.barh(sorted_names, sorted_importance)\n",
    "    plt.xlabel('Feature Importance')\n",
    "    plt.ylabel('Features')\n",
    "    plt.title('Feature Importance')\n",
    "    plt.show()"
   ]
  },
  {
   "cell_type": "markdown",
   "metadata": {},
   "source": [
    "### 4. visualize_model_predictions(model, X_test, y_test)\n",
    "\n",
    "완성된 모델로 test set을 예측하고, 예측값과 실제값을 산점도로 시각화하는 함수"
   ]
  },
  {
   "cell_type": "code",
   "execution_count": 9,
   "metadata": {},
   "outputs": [],
   "source": [
    "import matplotlib.pyplot as plt\n",
    "import numpy as np\n",
    "\n",
    "def visualize_model_predictions(model, X_test, y_test):\n",
    "    y_pred = model.predict(X_test)\n",
    "    slope, intercept = np.polyfit(y_pred, y_test, 1)\n",
    "\n",
    "    plt.figure(figsize=(5, 5))\n",
    "\n",
    "    # 실제값과 예측값의 산점도\n",
    "    plt.scatter(y_test, y_pred, label='Test Samples')\n",
    "\n",
    "    # 모델 예측 결과 선\n",
    "    plt.plot(y_pred, slope * y_pred + intercept, color='red', label=\"실제 모델\")\n",
    "    \n",
    "    #기준선\n",
    "    plt.plot([min(y_test), max(y_test)], [min(y_test), max(y_test)], '-', color='green',label=\"이상적인 모델\")\n",
    "\n",
    "\n",
    "    plt.title(\"실제값, 예측값 비교\")\n",
    "    plt.xlabel(\"실제값\")\n",
    "    plt.ylabel(\"예측값\")\n",
    "    plt.legend(loc='lower right')\n",
    "    plt.show()\n"
   ]
  },
  {
   "cell_type": "markdown",
   "metadata": {},
   "source": [
    "### 5. 계수 중요도 시각화 (회귀 모델일 경우 활용)\n",
    "\n",
    "feature importance와 유사하게 회귀모델의 계수를 시각화하는 함수"
   ]
  },
  {
   "cell_type": "code",
   "execution_count": 10,
   "metadata": {},
   "outputs": [],
   "source": [
    "def Regression_coef(model, X_train, top_n=30):\n",
    "    # 각 특성의 계수(coefficient)\n",
    "    coefficients = model.coef_\n",
    "\n",
    "    # 특성 이름\n",
    "    feature_names = X_train.columns\n",
    "\n",
    "    # 계수의 절댓값으로 내림차순 정렬\n",
    "    sorted_idx = abs(coefficients).argsort()[::-1]\n",
    "    sorted_names = [feature_names[i] for i in sorted_idx]\n",
    "    sorted_coefficients = coefficients[sorted_idx]\n",
    "\n",
    "    # 바 차트로 시각화 (상위 30개만)\n",
    "    plt.figure(figsize=(5, 5))\n",
    "    plt.barh(sorted_names[:top_n], sorted_coefficients[:top_n])\n",
    "    plt.xlabel('계수값')\n",
    "    plt.ylabel('특성')\n",
    "    plt.title('계수')\n",
    "    plt.show()"
   ]
  }
 ],
 "metadata": {
  "kernelspec": {
   "display_name": "base",
   "language": "python",
   "name": "python3"
  },
  "language_info": {
   "codemirror_mode": {
    "name": "ipython",
    "version": 3
   },
   "file_extension": ".py",
   "mimetype": "text/x-python",
   "name": "python",
   "nbconvert_exporter": "python",
   "pygments_lexer": "ipython3",
   "version": "3.9.13"
  },
  "orig_nbformat": 4
 },
 "nbformat": 4,
 "nbformat_minor": 2
}
