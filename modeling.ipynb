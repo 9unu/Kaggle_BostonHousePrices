{
 "cells": [
  {
   "cell_type": "markdown",
   "metadata": {},
   "source": [
    "# 1. Data set Load"
   ]
  },
  {
   "cell_type": "code",
   "execution_count": 157,
   "metadata": {},
   "outputs": [],
   "source": [
    "import pandas as pd\n",
    "import numpy as np\n",
    "\n",
    "# 함수 파일 import\n",
    "import import_ipynb\n",
    "from function_file import *\n",
    "import warnings\n",
    "warnings.filterwarnings(\"ignore\", category=UserWarning)"
   ]
  },
  {
   "cell_type": "code",
   "execution_count": 158,
   "metadata": {},
   "outputs": [],
   "source": [
    "train=pd.read_csv(r\"C:\\Users\\USER\\Desktop\\프로그래밍 공부\\캐글 모델링\\boston house\\data\\train.csv\", index_col='Id')\n",
    "test=pd.read_csv(r\"C:\\Users\\USER\\Desktop\\프로그래밍 공부\\캐글 모델링\\boston house\\data\\test.csv\", index_col='Id')"
   ]
  },
  {
   "cell_type": "markdown",
   "metadata": {},
   "source": [
    "# 2. 타겟변수 정규화"
   ]
  },
  {
   "cell_type": "code",
   "execution_count": 159,
   "metadata": {},
   "outputs": [],
   "source": [
    "train['SalePrice'] = np.log1p(train[\"SalePrice\"])"
   ]
  },
  {
   "cell_type": "code",
   "execution_count": 160,
   "metadata": {},
   "outputs": [],
   "source": [
    "# train set과 test set을 병합해서 결측값 처리\n",
    "data=pd.concat([train,test], sort=False)"
   ]
  },
  {
   "cell_type": "markdown",
   "metadata": {},
   "source": [
    "# 3. 결측값 처리"
   ]
  },
  {
   "cell_type": "code",
   "execution_count": 161,
   "metadata": {},
   "outputs": [],
   "source": [
    "missing_col=list(data.columns[data.isnull().any()])\n",
    "missing_sorted=data[missing_col].isnull().sum().sort_values(ascending=False)\n",
    "\n",
    "#결측치가 '없음'을 의미하는 특성들의 결측치는 'nan'으로 채움\n",
    "non_col=[\n",
    "    \"Alley\", \"BsmtQual\", \"BsmtCond\", \"BsmtExposure\", \"BsmtFinType1\",\n",
    "    \"BsmtFinType2\", \"FireplaceQu\", \"GarageType\", \"GarageFinish\",\n",
    "    \"GarageQual\", \"GarageCond\", \"PoolQC\", \"Fence\", \"MiscFeature\"\n",
    "]\n",
    "for i in non_col:\n",
    "    data[i]=data[i].fillna('nan')\n",
    "\n",
    "for i in non_col:\n",
    "     missing_col.remove(i)\n",
    "     \n",
    "mode_list=['MSZoning', 'Utilities', 'Exterior1st', 'Exterior2nd', \n",
    "                'BsmtFinSF1', 'BsmtFinSF2', 'BsmtUnfSF', 'Electrical', \n",
    "                'BsmtFullBath', 'BsmtHalfBath', 'KitchenQual', 'Functional', \n",
    "                'GarageCars', 'SaleType']\n",
    "for i in mode_list:\n",
    "    data[i] = data[i].fillna(data[i].mode().iloc[0])\n",
    "    \n",
    "mean_list=['TotalBsmtSF','GarageArea']\n",
    "for i in mean_list:\n",
    "    data[i] = data[i].fillna(data[i].mean())\n",
    "    \n",
    "data[\"LotFrontage\"] = data.groupby(\"Neighborhood\")[\"LotFrontage\"].transform(lambda x: x.fillna(x.median()))\n",
    "data[\"MasVnrArea\"] = data[\"MasVnrArea\"].fillna(0)\n",
    "data[\"MasVnrType\"] = data[\"MasVnrType\"].fillna(\"None\")\n",
    "data[\"GarageYrBlt\"] = data[\"GarageYrBlt\"].fillna(0)"
   ]
  },
  {
   "cell_type": "code",
   "execution_count": 162,
   "metadata": {},
   "outputs": [
    {
     "name": "stdout",
     "output_type": "stream",
     "text": [
      "['SalePrice']\n",
      "1459\n"
     ]
    }
   ],
   "source": [
    "# 결측값있는 특성\n",
    "missing_col=list(data.columns[data.isnull().any()])\n",
    "missing_sorted=data[missing_col].isnull().sum().sort_values(ascending=False)\n",
    "print(missing_col)\n",
    "print(int(missing_sorted))"
   ]
  },
  {
   "cell_type": "markdown",
   "metadata": {},
   "source": [
    "# 4. 파생변수"
   ]
  },
  {
   "cell_type": "code",
   "execution_count": 163,
   "metadata": {},
   "outputs": [
    {
     "name": "stdout",
     "output_type": "stream",
     "text": [
      "WoodDeckSForNot\n",
      "MasVnrAreaorNot\n",
      "LowQualFinSForNot\n",
      "MiscValorNot\n"
     ]
    }
   ],
   "source": [
    "# 용도 구역 분류 중 주거용 밀집, 저밀도...를 주거용으로 합침\n",
    "# data['MSZoning'].replace(['RH','RL','RP','RM'],['R','R','R','R'], inplace=True)\n",
    "\n",
    "# 집 전체 피트\n",
    "data['TotalFlrSF']= (data['1stFlrSF'] + data['2ndFlrSF'] + data['TotalBsmtSF'])\n",
    "\n",
    "# 현관 전체 피트\n",
    "data['Totalporchsf'] = (data['OpenPorchSF'] \n",
    "                              + data['3SsnPorch'] \n",
    "                              + data['EnclosedPorch'] \n",
    "                              + data['ScreenPorch'] \n",
    "                              + data['WoodDeckSF'])\n",
    "\n",
    "# 집의 내외부 점수를 합친 column overall생성\n",
    "data['Overall']=data['OverallQual']+data['OverallCond']\n",
    "\n",
    "# 전체 화장실 개수 (지하실 포함)\n",
    "data['TotalBath'] = (data['FullBath'] + (data['HalfBath']/2) + data['BsmtFullBath'] + (data['BsmtHalfBath']/2))\n",
    "\n",
    "# # 외부 재료 품질 평가 + 현재 상태 평가\n",
    "# data['Exter']=data['ExterQual']+data['ExterCond']\n",
    "\n",
    "# 리모델링 여부\n",
    "data['RemodorNot'] = np.where(data['YearBuilt'] == data['YearRemodAdd'], 0, 1) \n",
    "\n",
    "# 지하실 여부\n",
    "data['BsmtorNot'] = data['BsmtQual'].apply(lambda x: 0 if x == 'nan' else 1)\n",
    "\n",
    "# 벽난로 여부\n",
    "data['FireplaceorNot'] = np.where(data['Fireplaces'] > 0, 'no', 'yes')\n",
    "\n",
    "# 수영장 여부\n",
    "data['PoolorNot'] = np.where(data['PoolArea'] > 0, 1, 0)\n",
    "\n",
    "# 차고 여부\n",
    "data['GarageorNot'] = np.where(data['GarageArea'] > 0, 1, 0) # 차고 여부\n",
    " \n",
    "# 울타리 여부\n",
    "data['FenceorNot'] = data['Fence'].apply(lambda x: 0 if x == 'nan' else 1)\n",
    "\n",
    "#2층 여부\n",
    "data['2ndflrorNot'] = data['2ndFlrSF'].apply(lambda x: 1 if x > 0 else 0)\n",
    "\n",
    "# 현관 여부\n",
    "data['PorchorNot']=np.where(data['Totalporchsf'] > 0, 1, 0)  # 추가\n",
    "                            \n",
    "zero_list =['WoodDeckSF', 'MasVnrArea', 'LowQualFinSF', 'MiscVal'] # 추가\n",
    "for i in zero_list:\n",
    "    data[f'{i}orNot'] = np.where(data[i] > 0, 1, 0)\n",
    "    print(f'{i}orNot')"
   ]
  },
  {
   "cell_type": "markdown",
   "metadata": {},
   "source": [
    "### * 연도를 10단위로 묶음 -> 순서형으로 봄"
   ]
  },
  {
   "cell_type": "code",
   "execution_count": 164,
   "metadata": {},
   "outputs": [],
   "source": [
    "from sklearn.preprocessing import LabelEncoder\n",
    "year_feature=['YearRemodAdd','GarageYrBlt','YearBuilt']\n",
    "\n",
    "# 10년 단위로 묶음\n",
    "for i in year_feature:\n",
    "    data[i]=(data[i]//10)*10\n",
    "    \n",
    "# 10년 단위로 묶은 후 라벨인코딩\n",
    "label_encoder = LabelEncoder()\n",
    "for i in year_feature:\n",
    "    data[i] = label_encoder.fit_transform(data[i])"
   ]
  },
  {
   "cell_type": "markdown",
   "metadata": {},
   "source": [
    "# 4. 순서형 명목형 연속형 구분"
   ]
  },
  {
   "cell_type": "markdown",
   "metadata": {},
   "source": [
    "order_data.ipynb에서 분류한 순서, 연속, 카테고리형 리스트 pickle로 불러옴"
   ]
  },
  {
   "cell_type": "code",
   "execution_count": 165,
   "metadata": {},
   "outputs": [
    {
     "name": "stdout",
     "output_type": "stream",
     "text": [
      "category_order\n",
      "['BsmtQual', 'ExterQual', 'KitchenQual']\n",
      "numeric_order\n",
      "['TotRmsAbvGrd', 'GarageCars', 'OverallQual', 'FullBath', 'Fireplaces', 'YearRemodAdd', 'GarageYrBlt', 'YearBuilt']\n",
      "numeric_con\n",
      "['LotFrontage', 'TotalBsmtSF', '1stFlrSF', 'BsmtUnfSF', 'GrLivArea', 'LotArea', 'EnclosedPorch', 'OpenPorchSF', 'BsmtFinSF2', 'WoodDeckSF', 'MasVnrArea', 'GarageArea', '2ndFlrSF', 'BsmtFinSF1', 'PoolArea', '3SsnPorch', 'LowQualFinSF', 'MiscVal', 'ScreenPorch']\n",
      "total_encode\n",
      "['BsmtFinType2', 'Electrical', 'Street', 'SaleCondition', 'Condition2', 'Neighborhood', 'GarageType', 'Functional', 'Condition1', 'OverallCond', 'HouseStyle', 'Fence', 'BsmtCond', 'LotConfig', 'MSSubClass', 'Utilities', 'LandSlope', 'PavedDrive', 'BsmtHalfBath', 'BldgType', 'Alley', 'ExterCond', 'BsmtFullBath', 'LotShape', 'BsmtExposure', 'MoSold', 'RoofStyle', 'PoolQC', 'Heating', 'HalfBath', 'Exterior1st', 'GarageQual', 'CentralAir', 'YrSold', 'Foundation', 'GarageCond', 'MasVnrType', 'MiscFeature', 'GarageFinish', 'BsmtFinType1', 'MSZoning', 'LandContour', 'SaleType', 'HeatingQC', 'Exterior2nd', 'RoofMatl', 'FireplaceQu']\n"
     ]
    }
   ],
   "source": [
    "import pickle\n",
    "\n",
    "# 순서 적용해서 분류한 특성 리스트\n",
    "with open('total_list.pkl', 'rb') as f:\n",
    "    total_list = pickle.load(f)\n",
    "\n",
    "for i in total_list:\n",
    "    print(i)"
   ]
  },
  {
   "cell_type": "code",
   "execution_count": 166,
   "metadata": {},
   "outputs": [],
   "source": [
    "category_order=total_list[1]\n",
    "numeric_order=total_list[3]\n",
    "numeric_con=total_list[5]\n",
    "total_encode=total_list[7]"
   ]
  },
  {
   "cell_type": "markdown",
   "metadata": {},
   "source": [
    "파생변수로 만든 특성들 기존 리스트에 추가"
   ]
  },
  {
   "cell_type": "code",
   "execution_count": 167,
   "metadata": {},
   "outputs": [],
   "source": [
    "Derived_category_order=[]\n",
    "Derived_numeric_order=['Overall','TotalBath']\n",
    "Derived_numeric_con=['TotalFlrSF','Totalporchsf']\n",
    "Derived_total_encode=['2ndflrorNot','RemodorNot','BsmtorNot','FireplaceorNot',\n",
    "                      'PoolorNot','GarageorNot','FenceorNot',\n",
    "                      ]# 'PorchorNot','WoodDeckSForNot','MasVnrAreaorNot','LowQualFinSForNot','MiscValorNot'추가\n",
    "total_Derived=['2ndflrorNot','Totalporchsf','Overall','TotalBath','TotalFlrSF','RemodorNot',\n",
    "               'BsmtorNot','FireplaceorNot',\n",
    "                'PoolorNot','GarageorNot','FenceorNot']#,\n",
    "                #'PorchorNot','WoodDeckSForNot','MasVnrAreaorNot','LowQualFinSForNot','MiscValorNot'] # 추가"
   ]
  },
  {
   "cell_type": "code",
   "execution_count": 168,
   "metadata": {},
   "outputs": [],
   "source": [
    "for i in Derived_category_order:\n",
    "    category_order.append(i)\n",
    "\n",
    "for i in Derived_numeric_order:\n",
    "    numeric_order.append(i)\n",
    "\n",
    "for i in Derived_numeric_con:\n",
    "    numeric_con.append(i)\n",
    "\n",
    "for i in Derived_total_encode:\n",
    "    total_encode.append(i)"
   ]
  },
  {
   "cell_type": "markdown",
   "metadata": {},
   "source": [
    "# 5. 상위 n개의 특성만 선택"
   ]
  },
  {
   "cell_type": "code",
   "execution_count": 169,
   "metadata": {},
   "outputs": [
    {
     "name": "stdout",
     "output_type": "stream",
     "text": [
      "top_n_list(50)\n",
      "['GarageCars', 'FireplaceQu', 'HeatingQC', 'MSZoning', 'BsmtFinType1', 'BsmtQual', 'OverallQual', 'GrLivArea', 'YearRemodAdd', 'GarageType', 'TotalBsmtSF', 'KitchenQual', 'GarageQual', 'BsmtFullBath', 'Exterior2nd', 'BsmtFinSF1', 'SaleType', 'Foundation', 'OverallCond', 'BsmtExposure', 'BsmtFinType2', 'Neighborhood', 'LotArea', 'PavedDrive', 'LotShape', 'MSSubClass', 'Functional', 'BsmtCond', 'CentralAir', '1stFlrSF', 'BldgType', 'GarageFinish', 'Fireplaces', 'HalfBath', 'Heating', 'Alley', 'LandContour', 'OpenPorchSF', 'ExterQual', 'GarageArea', 'MoSold', 'SaleCondition', 'Condition1', 'PoolArea', 'Exterior1st', 'ExterCond', '2ndFlrSF', 'Fence', 'LotConfig', 'LandSlope', 'SalePrice']\n",
      "erase_list\n",
      "['MasVnrType', 'FullBath', 'YearBuilt', 'ScreenPorch', 'WoodDeckSF', 'BsmtFinSF2', 'TotRmsAbvGrd', 'GarageYrBlt', 'YrSold', 'HouseStyle', 'Condition2', 'EnclosedPorch', 'BsmtUnfSF', 'LotFrontage', 'Electrical', 'MiscVal', 'MasVnrArea', 'RoofStyle', '3SsnPorch', 'LowQualFinSF', 'GarageCond', 'MiscFeature', 'PoolQC', 'BsmtHalfBath', 'Utilities', 'Street', 'RoofMatl']\n"
     ]
    }
   ],
   "source": [
    "# 결측치.ipynb의 xgboost의 feature importance순서대로 나온 리스트\n",
    "total_feature=['GarageCars', 'FireplaceQu_nan', 'HeatingQC_Ex', 'MSZoning_RM', 'BsmtFinType1_GLQ', 'BsmtQual', 'OverallQual', 'HeatingQC_Fa', 'GrLivArea', 'YearRemodAdd_1950', 'GarageType_Attchd', 'TotalBsmtSF', 'KitchenQual', 'GarageQual_TA', 'BsmtFullBath_0.0', 'Exterior2nd_Brk Cmn', 'BsmtFinSF1', 'SaleType_New', 'Foundation_PConc', 'OverallCond', 'BsmtExposure_Gd', 'BsmtFinType2_LwQ', 'Neighborhood_OldTown', 'LotArea', 'PavedDrive_N', 'LotShape_Reg', 'MSSubClass_30', 'YearRemodAdd_1970', 'Functional_Typ', 'BsmtCond_Fa', 'CentralAir_N', 'Neighborhood_Crawfor', '1stFlrSF', 'BldgType_1Fam', 'GarageFinish_Unf', 'Exterior2nd_AsbShng', 'Fireplaces', 'HalfBath_1', 'Heating_GasA', 'Alley_Grvl', 'LandContour_Bnk', 'OpenPorchSF', 'ExterQual', 'GarageArea', 'MoSold_2', 'SaleCondition_Family', 'MSZoning_C (all)', 'Condition1_Artery', 'PoolArea', 'SaleCondition_Abnorml', 'Exterior1st_BrkFace', 'SaleType_WD', 'HalfBath_0', 'Condition1_Norm', 'ExterCond_Fa', 'BsmtFinType1_ALQ', 'Neighborhood_Edwards', 'SaleCondition_Normal', 'YearRemodAdd_1990', 'Exterior1st_Plywood', '2ndFlrSF', 'Fence_nan', 'Neighborhood_NWAmes', 'MSZoning_FV', 'MSSubClass_20', 'LotConfig_CulDSac', 'Fence_MnPrv', 'LandSlope_Mod', 'MasVnrType_Stone', 'GarageType_2Types', 'LotConfig_Inside', 'Exterior2nd_MetalSd', 'FullBath', 'YearRemodAdd_2000', 'YearBuilt_1890', 'FireplaceQu_Po', 'ScreenPorch', 'SaleCondition_Alloca', 'MoSold_12', 'WoodDeckSF', 'Condition1_RRAe', 'BsmtFinSF2', 'Fence_GdWo', 'Heating_Grav', 'TotRmsAbvGrd', 'Condition1_PosA', 'ExterCond_Gd', 'GarageYrBlt_1960.0', 'Neighborhood_NAmes', 'Neighborhood_StoneBr', 'MSZoning_RL', 'GarageYrBlt_1970.0', 'Neighborhood_BrkSide', 'Exterior2nd_VinylSd', 'YrSold_2006', 'SaleType_ConLI', 'YrSold_2009', 'YearBuilt_1930', 'HouseStyle_2.5Unf', 'HeatingQC_Gd', 'Condition1_PosN', 'MasVnrType_BrkCmn', 'Foundation_Wood', 'Condition2_Norm', 'Foundation_BrkTil', 'GarageYrBlt_0.0', 'YrSold_2010', 'SaleType_COD', 'YearBuilt_1970', 'GarageType_CarPort', 'Neighborhood_ClearCr', 'Alley_Pave', 'YearRemodAdd_1960', 'Neighborhood_NoRidge', 'EnclosedPorch', 'MoSold_1', 'PavedDrive_Y', 'MoSold_6', 'Exterior1st_AsbShng', 'LandContour_Lvl', 'BsmtUnfSF', 'BsmtFinType1_Unf', 'MoSold_9', 'MoSold_11', 'Exterior2nd_Stucco', 'BsmtFullBath_2.0', 'GarageFinish_RFn', 'MasVnrType_None', 'Exterior1st_MetalSd', 'PavedDrive_P', 'GarageYrBlt_1920.0', 'Neighborhood_Veenker', 'GarageYrBlt_1930.0', 'YearBuilt_1940', 'MoSold_4', 'HouseStyle_SLvl', 'BsmtCond_TA', 'BsmtExposure_Av', 'YearBuilt_1990', 'BsmtExposure_No', 'BsmtFinType1_Rec', 'LotConfig_Corner', 'LotFrontage', 'Electrical_SBrkr', 'Exterior2nd_Wd Sdng', 'FireplaceQu_Gd', 'MiscVal', 'Exterior2nd_Plywood', 'MasVnrArea', 'GarageType_Basment', 'YearBuilt_1910', 'Exterior2nd_HdBoard', 'BldgType_Duplex', 'FireplaceQu_TA', 'Neighborhood_Timber', 'SaleType_ConLD', 'MoSold_7', 'MSSubClass_60', 'RoofStyle_Flat', 'GarageType_BuiltIn', 'GarageYrBlt_2000.0', 'LotConfig_FR2', 'YearBuilt_2000', 'Neighborhood_NridgHt', 'HouseStyle_2Story', 'LotShape_IR2', 'GarageYrBlt_1940.0', 'BsmtFinType2_BLQ', 'GarageQual_Fa', 'GarageYrBlt_1980.0', 'Neighborhood_Somerst', 'YrSold_2007', 'Electrical_FuseA', 'MSZoning_RH', 'MSSubClass_50', 'Neighborhood_SawyerW', 'Functional_Maj2', 'Neighborhood_Mitchel', 'YearBuilt_1900', 'HouseStyle_1Story', 'HeatingQC_TA', 'MoSold_10', 'MoSold_8', 'MoSold_3', 'LotShape_IR1', 'GarageType_Detchd', '3SsnPorch', 'Heating_OthW', 'Exterior1st_Wd Sdng', 'Functional_Mod', 'Electrical_FuseF', 'Neighborhood_MeadowV', 'GarageYrBlt_1950.0', 'Foundation_CBlock', 'Exterior1st_WdShing', 'Neighborhood_Gilbert', 'Condition1_Feedr', 'LandSlope_Gtl', 'RoofStyle_Hip', 'BsmtFullBath_3.0', 'MSSubClass_80', 'LandContour_HLS', 'GarageYrBlt_1990.0', 'YearRemodAdd_1980', 'Neighborhood_IDOTRR', 'Functional_Min2', 'YearBuilt_1880', 'YrSold_2008', 'LowQualFinSF', 'SaleType_Oth', 'GarageYrBlt_1910.0', 'Exterior2nd_ImStucc', 'Exterior1st_HdBoard', 'Neighborhood_SWISU', 'FireplaceQu_Fa', 'ExterCond_Ex', 'Condition1_RRNn', 'Neighborhood_Sawyer', 'RoofStyle_Gable', 'Fence_GdPrv', 'YearBuilt_1920', 'Functional_Min1', 'LandContour_Low', 'GarageCond_Gd', 'MasVnrType_BrkFace', 'BsmtCond_Gd', 'MoSold_5', 'GarageQual_Ex', 'BsmtFinType2_Rec', 'Exterior1st_CemntBd', 'SaleType_CWD', 'GarageFinish_Fin', 'BsmtExposure_Mn', 'GarageCond_Fa', 'MSSubClass_40', 'Exterior1st_AsphShn', 'MiscFeature_Othr', 'GarageYrBlt_2010.0', 'Condition2_RRNn', 'LandSlope_Sev', 'MSSubClass_85', 'MiscFeature_Shed', 'MiscFeature_TenC', 'BsmtFullBath_1.0', 'Foundation_Slab', 'Condition1_RRAn', 'Condition1_RRNe', 'GarageYrBlt_1900.0', 'GarageYrBlt_1890.0', 'Heating_Floor', 'GarageYrBlt_2200.0', 'SaleType_ConLw', 'Alley_nan', 'SaleType_Con', 'Functional_Sev', 'Heating_GasW', 'GarageFinish_nan', 'MiscFeature_Gar2', 'Heating_Wall', 'GarageCond_nan', 'GarageCond_TA', 'Foundation_Stone', 'GarageCond_Po', 'GarageCond_Ex', 'MiscFeature_nan', 'RoofStyle_Shed', 'Electrical_FuseP', 'Exterior1st_BrkComm', 'BsmtFinType1_BLQ', 'BsmtCond_nan', 'BsmtCond_Po', 'YearRemodAdd_2010', 'Exterior1st_VinylSd', 'Exterior1st_Stucco', 'Exterior1st_Stone', 'Exterior1st_ImStucc', 'Exterior1st_CBlock', 'Fence_MnWw', 'BsmtFinType1_nan', 'LotConfig_FR3', 'Neighborhood_NPkVill', 'Neighborhood_CollgCr', 'Neighborhood_BrDale', 'Neighborhood_Blueste', 'Neighborhood_Blmngtn', 'LotShape_IR3', 'BsmtExposure_nan', 'Exterior2nd_Wd Shng', 'BsmtFinType1_LwQ', 'BsmtFinType2_ALQ', 'Exterior2nd_Other', 'MSSubClass_180', 'HouseStyle_SFoyer', 'HouseStyle_2.5Fin', 'HouseStyle_1.5Unf', 'HouseStyle_1.5Fin', 'MSSubClass_90', 'MSSubClass_75', 'MSSubClass_70', 'MSSubClass_45', 'MSSubClass_190', 'MSSubClass_160', 'BsmtFinType2_GLQ', 'MSSubClass_150', 'MSSubClass_120', 'YearBuilt_2010', 'YearBuilt_1980', 'YearBuilt_1960', 'YearBuilt_1950', 'YearBuilt_1870', 'BsmtFinType2_nan', 'BsmtFinType2_Unf', 'Exterior2nd_Stone', 'Exterior2nd_CmentBd', 'Electrical_Mix', 'PoolQC_nan', 'BldgType_TwnhsE', 'BldgType_Twnhs', 'BldgType_2fmCon', 'BsmtHalfBath_2.0', 'BsmtHalfBath_1.0', 'BsmtHalfBath_0.0', 'GarageQual_nan', 'GarageQual_Po', 'GarageQual_Gd', 'PoolQC_Gd', 'ExterCond_Po', 'PoolQC_Fa', 'PoolQC_Ex', 'CentralAir_Y', 'HeatingQC_Po', 'Utilities_NoSeWa', 'Utilities_AllPub', 'SaleCondition_Partial', 'SaleCondition_AdjLand', 'FireplaceQu_Ex', 'GarageType_nan', 'ExterCond_TA', 'Exterior2nd_CBlock', 'Condition2_Artery', 'Exterior2nd_BrkFace', 'Exterior2nd_AsphShn', 'RoofStyle_Mansard', 'RoofStyle_Gambrel', 'Condition2_RRAn', 'Condition2_RRAe', 'Condition2_PosN', 'Condition2_PosA', 'Condition2_Feedr', 'HalfBath_2', 'Street_Grvl', 'RoofMatl_WdShngl', 'RoofMatl_WdShake', 'RoofMatl_Tar&Grv', 'RoofMatl_Roll', 'RoofMatl_Metal', 'RoofMatl_Membran', 'RoofMatl_CompShg', 'RoofMatl_ClyTile', 'Street_Pave', 'Functional_Maj1']\n",
    "\n",
    "feature_lank_list=top_n_feature(total_feature, 50)"
   ]
  },
  {
   "cell_type": "code",
   "execution_count": 170,
   "metadata": {},
   "outputs": [],
   "source": [
    "top_n_list=feature_lank_list[1]\n",
    "erase_list=feature_lank_list[3]"
   ]
  },
  {
   "cell_type": "code",
   "execution_count": 171,
   "metadata": {},
   "outputs": [],
   "source": [
    "# 50개안에 든 특성들 + 타겟변수인 'SalePrice'\n",
    "data=data[top_n_list + total_Derived]"
   ]
  },
  {
   "cell_type": "code",
   "execution_count": 172,
   "metadata": {},
   "outputs": [
    {
     "name": "stdout",
     "output_type": "stream",
     "text": [
      "['BsmtQual', 'ExterQual', 'KitchenQual']\n",
      "['GarageCars', 'OverallQual', 'Fireplaces', 'YearRemodAdd', 'Overall', 'TotalBath']\n",
      "['TotalBsmtSF', '1stFlrSF', 'GrLivArea', 'LotArea', 'OpenPorchSF', 'GarageArea', '2ndFlrSF', 'BsmtFinSF1', 'PoolArea', 'TotalFlrSF', 'Totalporchsf']\n",
      "['BsmtFinType2', 'SaleCondition', 'Neighborhood', 'GarageType', 'Functional', 'Condition1', 'OverallCond', 'Fence', 'BsmtCond', 'LotConfig', 'MSSubClass', 'LandSlope', 'PavedDrive', 'BldgType', 'Alley', 'ExterCond', 'BsmtFullBath', 'LotShape', 'BsmtExposure', 'MoSold', 'Heating', 'HalfBath', 'Exterior1st', 'GarageQual', 'CentralAir', 'Foundation', 'GarageFinish', 'BsmtFinType1', 'MSZoning', 'LandContour', 'SaleType', 'HeatingQC', 'Exterior2nd', 'FireplaceQu', '2ndflrorNot', 'RemodorNot', 'BsmtorNot', 'FireplaceorNot', 'PoolorNot', 'GarageorNot', 'FenceorNot']\n"
     ]
    }
   ],
   "source": [
    "# 50개안에 들지 못한 특성들을 지움\n",
    "for item in erase_list:\n",
    "    if item in category_order:\n",
    "        category_order.remove(item)\n",
    "    if item in numeric_order:\n",
    "        numeric_order.remove(item)\n",
    "    if item in numeric_con:\n",
    "        numeric_con.remove(item)\n",
    "    if item in total_encode:\n",
    "        total_encode.remove(item)\n",
    "\n",
    "print(category_order)\n",
    "print(numeric_order)\n",
    "print(numeric_con)\n",
    "print(total_encode)\n"
   ]
  },
  {
   "cell_type": "markdown",
   "metadata": {},
   "source": [
    "# 6. 연속형 변수에 왜도 검사\n",
    "\n",
    "-> box_cox 변환"
   ]
  },
  {
   "cell_type": "code",
   "execution_count": 173,
   "metadata": {},
   "outputs": [
    {
     "name": "stdout",
     "output_type": "stream",
     "text": [
      "PoolArea        16.898328\n",
      "LotArea         12.822431\n",
      "OpenPorchSF      2.535114\n",
      "TotalFlrSF       1.515800\n",
      "1stFlrSF         1.469604\n",
      "BsmtFinSF1       1.425230\n",
      "Totalporchsf     1.376649\n",
      "GrLivArea        1.269358\n",
      "TotalBsmtSF      1.162484\n",
      "2ndFlrSF         0.861675\n",
      "dtype: float64\n"
     ]
    }
   ],
   "source": [
    "from scipy.stats import skew \n",
    "skewness = data[numeric_con].apply(lambda x: skew(x.dropna())).sort_values(ascending=False)\n",
    "# 왜도 0.5이상을 높다고 판단\n",
    "high_skewness = skewness[abs(skewness) > 0.75]\n",
    "skew_feat = high_skewness.index\n",
    "print(high_skewness)"
   ]
  },
  {
   "cell_type": "code",
   "execution_count": 174,
   "metadata": {},
   "outputs": [],
   "source": [
    "from scipy.special import boxcox1p\n",
    "lam = 0.15 # 0에 가까울 수록 로그 변환에 가까움, 1~ 제곱근 변환, 2는 자연로그변환\n",
    "for i in skew_feat:\n",
    "    data[i] = boxcox1p(data[i], lam)"
   ]
  },
  {
   "cell_type": "code",
   "execution_count": 175,
   "metadata": {},
   "outputs": [
    {
     "name": "stdout",
     "output_type": "stream",
     "text": [
      "PoolArea        15.119426\n",
      "Totalporchsf    -1.059615\n",
      "TotalBsmtSF     -3.972965\n",
      "dtype: float64\n"
     ]
    }
   ],
   "source": [
    "from scipy.stats import skew \n",
    "skewness = data[numeric_con].apply(lambda x: skew(x.dropna())).sort_values(ascending=False)\n",
    "\n",
    "high_skewness = skewness[abs(skewness) > 0.5]\n",
    "skew_feat = high_skewness.index\n",
    "\n",
    "print(high_skewness)\n",
    "skew_list=list(skew_feat)"
   ]
  },
  {
   "cell_type": "markdown",
   "metadata": {},
   "source": [
    "정규화를 했음에도 왜도가 너무 큰 변수는 drop"
   ]
  },
  {
   "cell_type": "code",
   "execution_count": 176,
   "metadata": {},
   "outputs": [
    {
     "name": "stdout",
     "output_type": "stream",
     "text": [
      "['BsmtQual', 'ExterQual', 'KitchenQual']\n",
      "['GarageCars', 'OverallQual', 'Fireplaces', 'YearRemodAdd', 'Overall', 'TotalBath']\n",
      "['1stFlrSF', 'GrLivArea', 'LotArea', 'OpenPorchSF', 'GarageArea', '2ndFlrSF', 'BsmtFinSF1', 'TotalFlrSF']\n",
      "['BsmtFinType2', 'SaleCondition', 'Neighborhood', 'GarageType', 'Functional', 'Condition1', 'OverallCond', 'Fence', 'BsmtCond', 'LotConfig', 'MSSubClass', 'LandSlope', 'PavedDrive', 'BldgType', 'Alley', 'ExterCond', 'BsmtFullBath', 'LotShape', 'BsmtExposure', 'MoSold', 'Heating', 'HalfBath', 'Exterior1st', 'GarageQual', 'CentralAir', 'Foundation', 'GarageFinish', 'BsmtFinType1', 'MSZoning', 'LandContour', 'SaleType', 'HeatingQC', 'Exterior2nd', 'FireplaceQu', '2ndflrorNot', 'RemodorNot', 'BsmtorNot', 'FireplaceorNot', 'PoolorNot', 'GarageorNot', 'FenceorNot']\n"
     ]
    }
   ],
   "source": [
    "for i in skew_list:\n",
    "    data=data.drop(i, axis=1)\n",
    "\n",
    "# 50개안에 들지 못한 특성들을 지움\n",
    "for item in skew_list:\n",
    "    if item in category_order:\n",
    "        category_order.remove(item)\n",
    "    if item in numeric_order:\n",
    "        numeric_order.remove(item)\n",
    "    if item in numeric_con:\n",
    "        numeric_con.remove(item)\n",
    "    if item in total_encode:\n",
    "        total_encode.remove(item)\n",
    "\n",
    "print(category_order)\n",
    "print(numeric_order)\n",
    "print(numeric_con)\n",
    "print(total_encode)"
   ]
  },
  {
   "cell_type": "code",
   "execution_count": 177,
   "metadata": {},
   "outputs": [],
   "source": [
    "from sklearn.preprocessing import LabelEncoder\n",
    "\n",
    "#카테고리형 중 순서가 있는 변수만 라벨인코딩해줌\n",
    "label_encoder = LabelEncoder()\n",
    "for i in category_order:\n",
    "    data[i] = label_encoder.fit_transform(data[i])"
   ]
  },
  {
   "cell_type": "markdown",
   "metadata": {},
   "source": [
    "# 7. 다중 공선성 판단\n",
    "\n",
    "연속형만 진행"
   ]
  },
  {
   "cell_type": "code",
   "execution_count": 178,
   "metadata": {},
   "outputs": [],
   "source": [
    "# test set은 제외한 데이터로 다중 공선성 파악\n",
    "train=data[:len(train)]"
   ]
  },
  {
   "cell_type": "code",
   "execution_count": 179,
   "metadata": {},
   "outputs": [
    {
     "name": "stdout",
     "output_type": "stream",
     "text": [
      "      Features          VIF\n",
      "0     1stFlrSF  3060.208306\n",
      "1    GrLivArea  4255.825326\n",
      "2      LotArea   119.095282\n",
      "3  OpenPorchSF     2.482568\n",
      "4   GarageArea     7.506499\n",
      "5     2ndFlrSF    27.260952\n",
      "6   BsmtFinSF1     3.353125\n",
      "7   TotalFlrSF  1755.900487\n"
     ]
    }
   ],
   "source": [
    "from statsmodels.stats.outliers_influence import variance_inflation_factor\n",
    "\n",
    "vif_data = train[numeric_con]\n",
    "# VIF 계산\n",
    "vif = pd.DataFrame()\n",
    "vif['Features'] = numeric_con\n",
    "vif['VIF'] = [variance_inflation_factor(vif_data.values, i) for i in range(vif_data.shape[1])]\n",
    "\n",
    "print(vif)"
   ]
  },
  {
   "cell_type": "markdown",
   "metadata": {},
   "source": [
    "vif가 10이상이면 다중공선성이 있다고 판단"
   ]
  },
  {
   "cell_type": "code",
   "execution_count": 180,
   "metadata": {},
   "outputs": [],
   "source": [
    "high_vif_columns = vif[vif['VIF'] > 10]['Features'].tolist()"
   ]
  },
  {
   "cell_type": "code",
   "execution_count": 181,
   "metadata": {},
   "outputs": [
    {
     "name": "stdout",
     "output_type": "stream",
     "text": [
      "['1stFlrSF', 'GrLivArea', 'LotArea', '2ndFlrSF', 'TotalFlrSF']\n"
     ]
    }
   ],
   "source": [
    "print(high_vif_columns)"
   ]
  },
  {
   "cell_type": "code",
   "execution_count": 182,
   "metadata": {},
   "outputs": [
    {
     "name": "stdout",
     "output_type": "stream",
     "text": [
      "1stFlrSF\n",
      "'TotalFlrSF' (0.76), "
     ]
    },
    {
     "data": {
      "image/png": "[encoded data removed]",
      "text/plain": [
       "<Figure size 1000x100 with 2 Axes>"
      ]
     },
     "metadata": {},
     "output_type": "display_data"
    },
    {
     "name": "stdout",
     "output_type": "stream",
     "text": [
      "GrLivArea\n",
      "'TotalFlrSF' (0.87), "
     ]
    },
    {
     "data": {
      "image/png": "[encoded data removed]",
      "text/plain": [
       "<Figure size 1000x100 with 2 Axes>"
      ]
     },
     "metadata": {},
     "output_type": "display_data"
    },
    {
     "name": "stdout",
     "output_type": "stream",
     "text": [
      "LotArea\n"
     ]
    },
    {
     "data": {
      "image/png": "[encoded data removed]",
      "text/plain": [
       "<Figure size 1000x100 with 2 Axes>"
      ]
     },
     "metadata": {},
     "output_type": "display_data"
    },
    {
     "name": "stdout",
     "output_type": "stream",
     "text": [
      "2ndFlrSF\n"
     ]
    },
    {
     "data": {
      "image/png": "[encoded data removed]",
      "text/plain": [
       "<Figure size 1000x100 with 2 Axes>"
      ]
     },
     "metadata": {},
     "output_type": "display_data"
    },
    {
     "name": "stdout",
     "output_type": "stream",
     "text": [
      "TotalFlrSF\n",
      "'GrLivArea' (0.87), '1stFlrSF' (0.76), "
     ]
    },
    {
     "data": {
      "image/png": "[encoded data removed]",
      "text/plain": [
       "<Figure size 1000x100 with 2 Axes>"
      ]
     },
     "metadata": {},
     "output_type": "display_data"
    }
   ],
   "source": [
    "import seaborn as sns\n",
    "import matplotlib.pyplot as plt\n",
    "\n",
    "# 전체 변수끼리의 상관 계수\n",
    "entire_corr = train[numeric_con].corr()\n",
    "vif_list=[]\n",
    "total_corr_list=[]\n",
    "for i in high_vif_columns:\n",
    "    p=True\n",
    "    corr_data = train[entire_corr.nlargest(15, i)[i].index]  # .index: Series객체에서 열이름 가져옴\n",
    "    # 선택된 변수끼리의 상관 계수\n",
    "    print(i)\n",
    "    \n",
    "    selected_corr = corr_data.corr()\n",
    "    \n",
    "    corr_list=[]\n",
    "    # 첫 번째 변수와 그와 상관관계가 높은 변수들의 상관계수 및 변수명 출력\n",
    "    for col in selected_corr.columns:\n",
    "        if col != i:\n",
    "            correlation = selected_corr.loc[i, col]\n",
    "            if(correlation>=0.7):\n",
    "                print(f\"'{col}' ({correlation:.2f}),\", end=\" \")\n",
    "                corr_list.append(col)\n",
    "    \n",
    "    if(len(corr_list)>0):\n",
    "        vif_list.append(i)\n",
    "        total_corr_list.append(corr_list)\n",
    "    \n",
    "    # 첫 번째 변수와 그와 상관관계가 높은 변수들의 상관계수 히트맵 그리기\n",
    "    figure, ax1 = plt.subplots(nrows=1, ncols=1)\n",
    "    figure.set_size_inches(10, 1)\n",
    "    sns.heatmap(selected_corr.iloc[[0], :], annot=True, ax=ax1, fmt='.2f')\n",
    "    plt.show()\n"
   ]
  },
  {
   "cell_type": "code",
   "execution_count": 183,
   "metadata": {},
   "outputs": [
    {
     "name": "stdout",
     "output_type": "stream",
     "text": [
      "1stFlrSF\n",
      "['TotalFlrSF']\n",
      "GrLivArea\n",
      "['TotalFlrSF']\n",
      "TotalFlrSF\n",
      "['GrLivArea', '1stFlrSF']\n"
     ]
    }
   ],
   "source": [
    "for i, j in zip(vif_list, total_corr_list):\n",
    "    print(i)\n",
    "    print(j)"
   ]
  },
  {
   "cell_type": "code",
   "execution_count": 184,
   "metadata": {},
   "outputs": [
    {
     "name": "stdout",
     "output_type": "stream",
     "text": [
      "[['TotalFlrSF'], ['TotalFlrSF'], ['GrLivArea', '1stFlrSF']]\n"
     ]
    }
   ],
   "source": [
    "# 다중공선성있는 특성+그 특성과 관련있는 특성\n",
    "print(total_corr_list)"
   ]
  },
  {
   "cell_type": "markdown",
   "metadata": {},
   "source": [
    "# 8. PCA\n",
    "\n",
    "vif가 10 이상인 특성(다중공선성있는 특성)과 상관계수가 0.7이상인 특성들로 PCA 진행"
   ]
  },
  {
   "cell_type": "code",
   "execution_count": 185,
   "metadata": {},
   "outputs": [
    {
     "name": "stdout",
     "output_type": "stream",
     "text": [
      "1stFlrSF_TotalFlrSF_0\n",
      "설명 분산 [0.87677624]\n",
      "GrLivArea_TotalFlrSF_1\n",
      "설명 분산 [0.87677624]\n",
      "TotalFlrSF_GrLivArea_2\n",
      "설명 분산 [0.80649407]\n"
     ]
    }
   ],
   "source": [
    "from sklearn.decomposition import PCA\n",
    "from sklearn.preprocessing import StandardScaler\n",
    "\n",
    "k = 0\n",
    "# pca로 만든 특성들 저장할 리스트\n",
    "pca_feature=[]\n",
    "for i, j in zip(vif_list, total_corr_list):\n",
    "    selected_feature =[]\n",
    "    selected_feature.append(vif_list[0])\n",
    "    for m in j:\n",
    "            selected_feature.append(m)\n",
    "    # print(selected_feature)\n",
    "    selected_data = data[selected_feature]\n",
    "\n",
    "    # 데이터 스케일링\n",
    "    scaler = StandardScaler()\n",
    "    scaled_data = scaler.fit_transform(selected_data)\n",
    "\n",
    "    # PCA 모델 생성\n",
    "    pca = PCA(n_components=1)\n",
    "    pca_result = pca.fit_transform(scaled_data)\n",
    "\n",
    "    # PCA 결과를 데이터프레임에 추가\n",
    "    data[f'{i}_{j[0]}_{k}'] = pca_result\n",
    "    pca_feature.append(f'{i}_{j[0]}_{k}')\n",
    "\n",
    "    # PCA 결과 확인\n",
    "    print(f'{i}_{j[0]}_{k}')\n",
    "    print(\"설명 분산\", pca.explained_variance_ratio_)\n",
    "    k += 1\n"
   ]
  },
  {
   "cell_type": "code",
   "execution_count": 186,
   "metadata": {},
   "outputs": [],
   "source": [
    "# pca에 쓰인 모든 컬럼 data에서 drop\n",
    "selected_feature =[]\n",
    "for i, j in zip(vif_list, total_corr_list):\n",
    "    selected_feature.append(vif_list[0])\n",
    "    for m in j:\n",
    "            selected_feature.append(m)\n",
    "drop_list=list(set(selected_feature))\n",
    "data=data.drop(drop_list, axis=1)\n",
    "\n",
    "# drop_list에 포함된 특성들 지움\n",
    "for item in drop_list:\n",
    "    if item in category_order:\n",
    "        category_order.remove(item)\n",
    "    if item in numeric_order:\n",
    "        numeric_order.remove(item)\n",
    "    if item in numeric_con:\n",
    "        numeric_con.remove(item)\n",
    "    if item in total_encode:\n",
    "        total_encode.remove(item)"
   ]
  },
  {
   "cell_type": "code",
   "execution_count": 187,
   "metadata": {},
   "outputs": [
    {
     "name": "stdout",
     "output_type": "stream",
     "text": [
      "중복으로 생긴 조합\n",
      "['TotalFlrSF', 'GrLivArea']\n"
     ]
    }
   ],
   "source": [
    "# pca로 만든 컬럼 중 같은 조합인 특성 drop\n",
    "\n",
    "total_list=[]\n",
    "for i in pca_feature:\n",
    "    original_list=[]\n",
    "    split_string=i.split('_')\n",
    "    var1=split_string[0]\n",
    "    var2=split_string[1]\n",
    "    original_list.append(var1)\n",
    "    original_list.append(var2)\n",
    "    total_list.append(set(original_list))\n",
    "    \n",
    "unique_sets = set()\n",
    "duplicates = set()\n",
    "\n",
    "for s in total_list:\n",
    "    base = frozenset(s)\n",
    "    if base in unique_sets:\n",
    "        duplicates.add(base)\n",
    "    else:\n",
    "        unique_sets.add(base)\n",
    "\n",
    "duplicate_list=[]\n",
    "print(\"중복으로 생긴 조합\")\n",
    "for i in duplicates:\n",
    "    print(list(i))\n",
    "    duplicate_list.append(list(i))\n",
    "    "
   ]
  },
  {
   "cell_type": "code",
   "execution_count": 188,
   "metadata": {},
   "outputs": [],
   "source": [
    "for i in pca_feature:\n",
    "    original_list=[]\n",
    "    split_string=i.split('_')\n",
    "    var1=split_string[0]\n",
    "    var2=split_string[1]\n",
    "    for j in duplicate_list:\n",
    "        if(var1==j[0] and var2==j[1]):\n",
    "            pca_feature.remove(i)"
   ]
  },
  {
   "cell_type": "code",
   "execution_count": 189,
   "metadata": {},
   "outputs": [
    {
     "data": {
      "text/plain": [
       "['1stFlrSF_TotalFlrSF_0', 'GrLivArea_TotalFlrSF_1']"
      ]
     },
     "execution_count": 189,
     "metadata": {},
     "output_type": "execute_result"
    }
   ],
   "source": [
    "# 최종적으로 생긴 pca 특성 리스트\n",
    "pca_feature"
   ]
  },
  {
   "cell_type": "code",
   "execution_count": 190,
   "metadata": {},
   "outputs": [
    {
     "name": "stdout",
     "output_type": "stream",
     "text": [
      "      Features       VIF\n",
      "0      LotArea  8.662897\n",
      "1  OpenPorchSF  2.410913\n",
      "2   GarageArea  7.187737\n",
      "3     2ndFlrSF  1.824320\n",
      "4   BsmtFinSF1  3.098809\n"
     ]
    }
   ],
   "source": [
    "from statsmodels.stats.outliers_influence import variance_inflation_factor\n",
    "\n",
    "vif_data = data[numeric_con]\n",
    "# VIF 계산\n",
    "vif = pd.DataFrame()\n",
    "vif['Features'] = numeric_con\n",
    "vif['VIF'] = [variance_inflation_factor(vif_data.values, i) for i in range(vif_data.shape[1])]\n",
    "\n",
    "print(vif)"
   ]
  },
  {
   "cell_type": "markdown",
   "metadata": {},
   "source": [
    "# 9. 모델링"
   ]
  },
  {
   "cell_type": "markdown",
   "metadata": {},
   "source": [
    "1. 원핫인코딩"
   ]
  },
  {
   "cell_type": "code",
   "execution_count": 191,
   "metadata": {},
   "outputs": [],
   "source": [
    "#원핫인코딩하기 전에 데이터 형변환\n",
    "for i in total_encode:\n",
    "    data[i] = data[i].astype(str)"
   ]
  },
  {
   "cell_type": "code",
   "execution_count": 192,
   "metadata": {},
   "outputs": [],
   "source": [
    "one_hot_encoded=pd.get_dummies(data[total_encode])"
   ]
  },
  {
   "cell_type": "markdown",
   "metadata": {},
   "source": [
    "2. Min-Max Scaling"
   ]
  },
  {
   "cell_type": "code",
   "execution_count": 193,
   "metadata": {},
   "outputs": [
    {
     "name": "stdout",
     "output_type": "stream",
     "text": [
      "['LotArea', 'OpenPorchSF', 'GarageArea', '2ndFlrSF', 'BsmtFinSF1']\n"
     ]
    }
   ],
   "source": [
    "print(numeric_con)"
   ]
  },
  {
   "cell_type": "code",
   "execution_count": 194,
   "metadata": {},
   "outputs": [],
   "source": [
    "from sklearn.preprocessing import MinMaxScaler\n",
    "\n",
    "# Min-Max Scaler 객체 생성\n",
    "scaler = MinMaxScaler()\n",
    "\n",
    "# 선택할 컬럼 리스트 (타겟변수인 SalePrice는 제외)\n",
    "columns_to_scale = numeric_con\n",
    "\n",
    "# 선택한 컬럼들에 Min-Max Scaling 적용\n",
    "data[columns_to_scale] = scaler.fit_transform(data[columns_to_scale])"
   ]
  },
  {
   "cell_type": "markdown",
   "metadata": {},
   "source": [
    "3. 최종 데이터셋"
   ]
  },
  {
   "cell_type": "code",
   "execution_count": 195,
   "metadata": {},
   "outputs": [],
   "source": [
    "#원핫인코딩 데이터셋, 연속형 값 데이터셋 결합(타겟변수인 SalePrice도 continous_col에 포함되어있음)\n",
    "# + pca로 만든 특성들\n",
    "data=pd.concat([one_hot_encoded,data[numeric_order],data[category_order],data[numeric_con],\n",
    "                data['SalePrice'],data[pca_feature]], axis=1)"
   ]
  },
  {
   "cell_type": "markdown",
   "metadata": {},
   "source": [
    "4. train, test set 다시 분할"
   ]
  },
  {
   "cell_type": "code",
   "execution_count": 196,
   "metadata": {},
   "outputs": [],
   "source": [
    "train=data[:len(train)]\n",
    "test=data[len(train):]"
   ]
  },
  {
   "cell_type": "markdown",
   "metadata": {},
   "source": [
    "!!! 최종 제출할 때는 base_X_train, base_y_train으로 훈련시킨거로 test를 예측해서 제출해야함"
   ]
  },
  {
   "cell_type": "code",
   "execution_count": 197,
   "metadata": {},
   "outputs": [],
   "source": [
    "base_y_train=train['SalePrice']\n",
    "base_X_train=train.drop('SalePrice', axis=1)"
   ]
  },
  {
   "cell_type": "code",
   "execution_count": 198,
   "metadata": {},
   "outputs": [],
   "source": [
    "from sklearn.model_selection import train_test_split\n",
    "X_train, X_test, y_train, y_test = train_test_split(base_X_train, base_y_train, test_size=0.2, shuffle=True, random_state=42)"
   ]
  },
  {
   "cell_type": "markdown",
   "metadata": {},
   "source": [
    "--------"
   ]
  },
  {
   "cell_type": "markdown",
   "metadata": {},
   "source": [
    "# 10. 최종 모델 (XGBoost)"
   ]
  },
  {
   "cell_type": "code",
   "execution_count": 199,
   "metadata": {},
   "outputs": [
    {
     "name": "stdout",
     "output_type": "stream",
     "text": [
      "CV Fold 1 - Score: 0.0821, MSE: 0.0148, RMSE: 0.1216\n",
      "CV Fold 2 - Score: 0.0880, MSE: 0.0162, RMSE: 0.1273\n",
      "CV Fold 3 - Score: 0.0910, MSE: 0.0193, RMSE: 0.1388\n",
      "CV Fold 4 - Score: 0.0843, MSE: 0.0140, RMSE: 0.1183\n",
      "CV Fold 5 - Score: 0.0796, MSE: 0.0125, RMSE: 0.1119\n",
      "RMSE 평균: 0.12356719970568905\n",
      "RMSE 표준편차: 0.009095537652688838\n"
     ]
    },
    {
     "data": {
      "image/png": "[encoded data removed]",
      "text/plain": [
       "<Figure size 500x500 with 1 Axes>"
      ]
     },
     "metadata": {},
     "output_type": "display_data"
    }
   ],
   "source": [
    "import xgboost as xgb\n",
    "from sklearn.ensemble import GradientBoostingRegressor\n",
    "from sklearn.ensemble import RandomForestRegressor\n",
    "\n",
    "# XGBoost 모델 (예측 성능 확인을 위해 train set에서 test set까지 분할한 이후의 데이터셋 사용)\n",
    "model_XGBoost = xgb.XGBRegressor(max_depth=3, n_estimators=600, learning_rate=0.1)\n",
    "model_XGBoost.fit(X_train, y_train)\n",
    "model_val(model_XGBoost, X_train, y_train)\n",
    "visualize_model_predictions(model_XGBoost, X_test, y_test)"
   ]
  },
  {
   "cell_type": "code",
   "execution_count": 200,
   "metadata": {},
   "outputs": [
    {
     "name": "stdout",
     "output_type": "stream",
     "text": [
      "CV Fold 1 - Score: 0.0797, MSE: 0.0122, RMSE: 0.1104\n",
      "CV Fold 2 - Score: 0.0885, MSE: 0.0167, RMSE: 0.1291\n",
      "CV Fold 3 - Score: 0.0845, MSE: 0.0161, RMSE: 0.1269\n",
      "CV Fold 4 - Score: 0.0791, MSE: 0.0130, RMSE: 0.1141\n",
      "CV Fold 5 - Score: 0.0862, MSE: 0.0162, RMSE: 0.1271\n",
      "RMSE 평균: 0.12152931845064938\n",
      "RMSE 표준편차: 0.007706808608796276\n"
     ]
    }
   ],
   "source": [
    "# 실제로는 전체 train set으로 모델 훈련 \n",
    "last_model_XGBoost = xgb.XGBRegressor(max_depth=3, n_estimators=600, learning_rate=0.1)\n",
    "model_XGBoost.fit(base_X_train, base_y_train)\n",
    "model_val(model_XGBoost, base_X_train, base_y_train)"
   ]
  },
  {
   "cell_type": "markdown",
   "metadata": {},
   "source": [
    "# 11. 최종 제출 파일 생성 "
   ]
  },
  {
   "cell_type": "code",
   "execution_count": 201,
   "metadata": {},
   "outputs": [],
   "source": [
    "submission_test=test.drop('SalePrice',axis=1)\n",
    "submission_y_pred = model_XGBoost.predict(submission_test)\n",
    "submission = pd.DataFrame()\n",
    "submission['Id'] = test.index\n",
    "submission['SalePrice'] = np.expm1(submission_y_pred)\n",
    "# submission.to_csv(\"submit.csv\", index=False)"
   ]
  }
 ],
 "metadata": {
  "kernelspec": {
   "display_name": "base",
   "language": "python",
   "name": "python3"
  },
  "language_info": {
   "codemirror_mode": {
    "name": "ipython",
    "version": 3
   },
   "file_extension": ".py",
   "mimetype": "text/x-python",
   "name": "python",
   "nbconvert_exporter": "python",
   "pygments_lexer": "ipython3",
   "version": "3.9.13"
  },
  "orig_nbformat": 4
 },
 "nbformat": 4,
 "nbformat_minor": 2
}
